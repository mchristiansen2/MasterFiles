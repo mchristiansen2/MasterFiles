{
 "cells": [
  {
   "cell_type": "markdown",
   "id": "cde68615",
   "metadata": {},
   "source": [
    "# DSC540 Week 1&2\n",
    "## Madison Christiansen "
   ]
  },
  {
   "cell_type": "markdown",
   "id": "cb015dd0",
   "metadata": {},
   "source": [
    "### 2. Creating a list,  iterate over the list and sort your results, generate random numbers, add to the list, and then print your results"
   ]
  },
  {
   "cell_type": "code",
   "execution_count": 37,
   "id": "6fbb0051",
   "metadata": {
    "scrolled": true
   },
   "outputs": [
    {
     "name": "stdout",
     "output_type": "stream",
     "text": [
      "[0, 2, 3, 7, 8, 8, 10, 34, 45, 54, 55, 78]\n"
     ]
    }
   ],
   "source": [
    "list = [10,2,3,55,0,54,78,7,34,8,45,8]\n",
    "# sorting\n",
    "list.sort()\n",
    "\n",
    "print(list)"
   ]
  },
  {
   "cell_type": "code",
   "execution_count": 38,
   "id": "8cbc66a4",
   "metadata": {},
   "outputs": [],
   "source": [
    "import random\n",
    "\n",
    "random = random.choices(list)"
   ]
  },
  {
   "cell_type": "code",
   "execution_count": 39,
   "id": "c29b2157",
   "metadata": {},
   "outputs": [],
   "source": [
    "# adding to list\n",
    "list.append(23)"
   ]
  },
  {
   "cell_type": "code",
   "execution_count": 40,
   "id": "6bc6912a",
   "metadata": {},
   "outputs": [
    {
     "name": "stdout",
     "output_type": "stream",
     "text": [
      "[8]\n",
      "[0, 2, 3, 7, 8, 8, 10, 34, 45, 54, 55, 78, 23]\n"
     ]
    }
   ],
   "source": [
    "# random number \n",
    "print(random)\n",
    "# list with added number\n",
    "print(list)"
   ]
  },
  {
   "cell_type": "markdown",
   "id": "050afc4c",
   "metadata": {},
   "source": [
    "### 3. Create a line chart with Matplotlib and the following data file.\n"
   ]
  },
  {
   "cell_type": "code",
   "execution_count": 41,
   "id": "a646ea83",
   "metadata": {},
   "outputs": [],
   "source": [
    "import matplotlib.pyplot as mpl\n",
    "import pandas as pd"
   ]
  },
  {
   "cell_type": "code",
   "execution_count": 42,
   "id": "18815ab9",
   "metadata": {
    "scrolled": true
   },
   "outputs": [],
   "source": [
    "# reading file in\n",
    "df = pd.read_excel('/Users/madisonchristiansen/Desktop/world-population.xlsm')"
   ]
  },
  {
   "cell_type": "code",
   "execution_count": 43,
   "id": "894a1991",
   "metadata": {},
   "outputs": [
    {
     "data": {
      "image/png": "[encoded data removed]",
      "text/plain": [
       "<Figure size 640x480 with 1 Axes>"
      ]
     },
     "metadata": {},
     "output_type": "display_data"
    }
   ],
   "source": [
    "# using matplotlib to create line chart\n",
    "mpl.plot(df['Year'], df['Population'], color='pink')\n",
    "mpl.title('Population vs Year')\n",
    "mpl.xlabel('Year')\n",
    "mpl.ylabel('Population')\n",
    "mpl.show()"
   ]
  },
  {
   "cell_type": "markdown",
   "id": "a684057d",
   "metadata": {},
   "source": [
    "### a. Data Wrangling with Python: Activity 1 page 17\n"
   ]
  },
  {
   "cell_type": "markdown",
   "id": "1ca5f8d0",
   "metadata": {},
   "source": [
    "### Task 1"
   ]
  },
  {
   "cell_type": "code",
   "execution_count": 44,
   "id": "7048fab1",
   "metadata": {
    "scrolled": true
   },
   "outputs": [
    {
     "data": {
      "text/plain": [
       "[20,\n",
       " 84,\n",
       " 55,\n",
       " 70,\n",
       " 85,\n",
       " 92,\n",
       " 14,\n",
       " 36,\n",
       " 58,\n",
       " 1,\n",
       " 58,\n",
       " 81,\n",
       " 99,\n",
       " 62,\n",
       " 69,\n",
       " 0,\n",
       " 77,\n",
       " 73,\n",
       " 3,\n",
       " 12,\n",
       " 55,\n",
       " 64,\n",
       " 16,\n",
       " 17,\n",
       " 34,\n",
       " 90,\n",
       " 3,\n",
       " 25,\n",
       " 21,\n",
       " 38,\n",
       " 30,\n",
       " 68,\n",
       " 81,\n",
       " 9,\n",
       " 85,\n",
       " 7,\n",
       " 61,\n",
       " 48,\n",
       " 18,\n",
       " 94,\n",
       " 89,\n",
       " 94,\n",
       " 46,\n",
       " 69,\n",
       " 16,\n",
       " 22,\n",
       " 89,\n",
       " 92,\n",
       " 18,\n",
       " 33,\n",
       " 64,\n",
       " 19,\n",
       " 78,\n",
       " 30,\n",
       " 75,\n",
       " 55,\n",
       " 36,\n",
       " 12,\n",
       " 98,\n",
       " 75,\n",
       " 52,\n",
       " 23,\n",
       " 54,\n",
       " 28,\n",
       " 0,\n",
       " 58,\n",
       " 46,\n",
       " 35,\n",
       " 7,\n",
       " 75,\n",
       " 89,\n",
       " 75,\n",
       " 48,\n",
       " 77,\n",
       " 77,\n",
       " 84,\n",
       " 7,\n",
       " 47,\n",
       " 98,\n",
       " 80,\n",
       " 54,\n",
       " 22,\n",
       " 74,\n",
       " 13,\n",
       " 25,\n",
       " 89,\n",
       " 37,\n",
       " 81,\n",
       " 56,\n",
       " 81,\n",
       " 86,\n",
       " 47,\n",
       " 44,\n",
       " 32,\n",
       " 24,\n",
       " 77,\n",
       " 38,\n",
       " 73,\n",
       " 18,\n",
       " 60]"
      ]
     },
     "execution_count": 44,
     "metadata": {},
     "output_type": "execute_result"
    }
   ],
   "source": [
    "import random\n",
    "limit = 100 # limit for random list\n",
    "random_list = [random.randint(0, limit) for x in range (0,limit)]\n",
    "random_list"
   ]
  },
  {
   "cell_type": "markdown",
   "id": "c6e4709e",
   "metadata": {},
   "source": [
    "### Task 2"
   ]
  },
  {
   "cell_type": "code",
   "execution_count": 45,
   "id": "b0b4063d",
   "metadata": {},
   "outputs": [
    {
     "data": {
      "text/plain": [
       "[84,\n",
       " 36,\n",
       " 81,\n",
       " 99,\n",
       " 69,\n",
       " 0,\n",
       " 3,\n",
       " 12,\n",
       " 90,\n",
       " 3,\n",
       " 21,\n",
       " 30,\n",
       " 81,\n",
       " 9,\n",
       " 48,\n",
       " 18,\n",
       " 69,\n",
       " 18,\n",
       " 33,\n",
       " 78,\n",
       " 30,\n",
       " 75,\n",
       " 36,\n",
       " 12,\n",
       " 75,\n",
       " 54,\n",
       " 0,\n",
       " 75,\n",
       " 75,\n",
       " 48,\n",
       " 84,\n",
       " 54,\n",
       " 81,\n",
       " 81,\n",
       " 24,\n",
       " 18,\n",
       " 60]"
      ]
     },
     "execution_count": 45,
     "metadata": {},
     "output_type": "execute_result"
    }
   ],
   "source": [
    "listbythree = [x for x in random_list if x % 3 == 0] # using the first list\n",
    "listbythree"
   ]
  },
  {
   "cell_type": "markdown",
   "id": "5824eb94",
   "metadata": {},
   "source": [
    "### Task 3"
   ]
  },
  {
   "cell_type": "code",
   "execution_count": 46,
   "id": "f3b1d452",
   "metadata": {},
   "outputs": [
    {
     "data": {
      "text/plain": [
       "63"
      ]
     },
     "execution_count": 46,
     "metadata": {},
     "output_type": "execute_result"
    }
   ],
   "source": [
    "firstlen = len(random_list) # list 1\n",
    "secondlen = len(listbythree) # list 2\n",
    "difference = firstlen - secondlen # difference of 1 and 2\n",
    "difference"
   ]
  },
  {
   "cell_type": "markdown",
   "id": "0d140826",
   "metadata": {},
   "source": [
    "### Task 4"
   ]
  },
  {
   "cell_type": "code",
   "execution_count": 47,
   "id": "834331ad",
   "metadata": {},
   "outputs": [
    {
     "data": {
      "text/plain": [
       "[69, 65, 61, 71, 71, 75, 62, 62, 63, 76, 74, 67, 64, 56, 64]"
      ]
     },
     "execution_count": 47,
     "metadata": {},
     "output_type": "execute_result"
    }
   ],
   "source": [
    "number = 15\n",
    "differencelist = []\n",
    "for i in range(0, number):\n",
    "    random_list = [random.randint(0, limit) for x in range (0,limit)] # task 1\n",
    "    listbythree = [x for x in random_list if x % 3 == 0] # task 2\n",
    "    firstlen = len(random_list) # task 3\n",
    "    secondlen = len(listbythree) # task 3\n",
    "    difference = firstlen - secondlen # task 3\n",
    "    differencelist.append(difference) \n",
    "differencelist"
   ]
  },
  {
   "cell_type": "code",
   "execution_count": 48,
   "id": "69231d8b",
   "metadata": {},
   "outputs": [
    {
     "data": {
      "text/plain": [
       "66.66666666666667"
      ]
     },
     "execution_count": 48,
     "metadata": {},
     "output_type": "execute_result"
    }
   ],
   "source": [
    "# average \n",
    "sum(differencelist)/float(len(differencelist))"
   ]
  },
  {
   "cell_type": "markdown",
   "id": "a0fcd6f3",
   "metadata": {},
   "source": [
    "### b. Data Wrangling with Python: Activity 2 page 31"
   ]
  },
  {
   "cell_type": "code",
   "execution_count": 49,
   "id": "c7997a67",
   "metadata": {
    "scrolled": false
   },
   "outputs": [
    {
     "data": {
      "text/plain": [
       "'Mr. Bennet was so odd a mixture of quick parts, sarcastic humour, reserve, and caprice, that the experience of three-and-twenty years had been insufficient to{5} make his wife understand his character. Her mind was less difficult to develope. She was a woman of mean understanding, little information, and uncertain temper. When she was discontented, she fancied herself nervous. The business of her life was to get her daughters married: its solace was visiting and news.'"
      ]
     },
     "execution_count": 49,
     "metadata": {},
     "output_type": "execute_result"
    }
   ],
   "source": [
    "text = \"IT is a truth universally acknowledged, that a single man in possession of a good fortune must be in want of a wife.\"\n",
    "\"However little known the feelings or views of such a man may be on his first entering a neighbourhood, this truth is so well fixed in the minds of the surrounding families, that he is considered as the rightful property of some one or other of their daughters.\"\n",
    "\"“My dear Mr. Bennet,” said his lady to him one day, “have you heard that Netherfield Park is let at last?{2}”\"\n",
    "\"Mr. Bennet replied that he had not.\"\n",
    "\"“But it is,” returned she; “for Mrs. Long has just been here, and she told me all about it.”\"\n",
    "\"Mr. Bennet made no answer.\"\n",
    "\"“Do not you want to know who has taken it?” cried his wife, impatiently.\"\n",
    "\"“You want to tell me, and I have no objection to hearing it.”\"\n",
    "\n",
    "\"“He came down to see the place”\"\n",
    "\"[Copyright 1894 by George Allen.]\"\n",
    "\"This was invitation enough.\"\n",
    "\"“Why, my dear, you must know, Mrs. Long says that Netherfield is taken by a young man of large fortune from the north of England; that he came down on Monday in a chaise and four to see the place, and was so much delighted with it that he agreed with Mr. Morris immediately; that he is to take possession before Michaelmas, and some of his servants are to be in the house by the end of next week.{3}”\"\n",
    "\"“What is his name?”\"\n",
    "\"“Bingley.”\"\n",
    "\"“Is he married or single?”\"\n",
    "\"“Oh, single, my dear, to be sure! A single man of large fortune; four or five thousand a year. What a fine thing for our girls!”\"\n",
    "\"“How so? how can it affect them?”\"\n",
    "\"“My dear Mr. Bennet,” replied his wife, “how can you be so tiresome? You must know that I am thinking of his marrying one of them.”\"\n",
    "\"“Is that his design in settling here?”\"\n",
    "\"“Design? Nonsense, how can you talk so! But it is very likely that he may fall in love with one of them, and therefore you must visit him as soon as he comes.”\"\n",
    "\"“I see no occasion for that. You and the girls may go—or you may send them by themselves, which perhaps will be still better; for as you are as handsome as any of them, Mr. Bingley might like you the best of the party.”\"\n",
    "\"“My dear, you flatter me. I certainly have had my share of beauty, but I do not pretend to be anything extraordinary now. When a woman has five grown-up daughters, she ought to give over thinking of her own beauty.”\"\n",
    "\"“In such cases, a woman has not often much beauty to think of.”\"\n",
    "\"“But, my dear, you must indeed go and see Mr. Bingley when he comes into the neighbourhood.”\"\n",
    "\"“It is more than I engage for, I assure you.”\"\n",
    "\"“But consider your daughters. Only think what an establishment it would be for one of them. Sir William and Lady Lucas are determined to go, merely on that account; for in general, you know, they visit no new{4} comers. Indeed you must go, for it will be impossible for us to visit him, if you do not.”\"\n",
    "\"“You are over scrupulous, surely. I dare say Mr. Bingley will be very glad to see you; and I will send a few lines by you to assure him of my hearty consent to his marrying whichever he chooses of the girls—though I must throw in a good word for my little Lizzy.”\"\n",
    "\"“I desire you will do no such thing. Lizzy is not a bit better than the others: and I am sure she is not half so handsome as Jane, nor half so good-humoured as Lydia. But you are always giving her the preference.”\"\n",
    "\"“They have none of them much to recommend them,” replied he: “they are all silly and ignorant like other girls; but Lizzy has something more of quickness than her sisters.”\"\n",
    "\"“Mr. Bennet, how can you abuse your own children in such a way? You take delight in vexing me. You have no compassion on my poor nerves.”\"\n",
    "\"“You mistake me, my dear. I have a high respect for your nerves. They are my old friends. I have heard you mention them with consideration these twenty years at least.”\"\n",
    "\"“Ah, you do not know what I suffer.”\"\n",
    "\"“But I hope you will get over it, and live to see many young men of four thousand a year come into the neighbourhood.”\"\n",
    "\"“It will be no use to us, if twenty such should come, since you will not visit them.”\"\n",
    "\"“Depend upon it, my dear, that when there are twenty, I will visit them all.”\"\n",
    "\"Mr. Bennet was so odd a mixture of quick parts, sarcastic humour, reserve, and caprice, that the experience of three-and-twenty years had been insufficient to{5} make his wife understand his character. Her mind was less difficult to develope. She was a woman of mean understanding, little information, and uncertain temper. When she was discontented, she fancied herself nervous. The business of her life was to get her daughters married: its solace was visiting and news.\""
   ]
  },
  {
   "cell_type": "code",
   "execution_count": 50,
   "id": "0cb6f3eb",
   "metadata": {},
   "outputs": [],
   "source": [
    "import string\n",
    "import re"
   ]
  },
  {
   "cell_type": "code",
   "execution_count": 51,
   "id": "5c91566b",
   "metadata": {},
   "outputs": [
    {
     "data": {
      "text/plain": [
       "'IT is a truth universally acknowledged that a single man in possession of a good fortune must be in want of a wife'"
      ]
     },
     "execution_count": 51,
     "metadata": {},
     "output_type": "execute_result"
    }
   ],
   "source": [
    "# removing \\n\n",
    "text = text.replace('\\n', \"\")\n",
    "# removing puncuation\n",
    "text = text.translate(str.maketrans('', '', string.punctuation))\n",
    "text"
   ]
  },
  {
   "cell_type": "code",
   "execution_count": 58,
   "id": "9b2bb05c",
   "metadata": {
    "scrolled": true
   },
   "outputs": [
    {
     "data": {
      "text/plain": [
       "['IT',\n",
       " 'is',\n",
       " 'a',\n",
       " 'truth',\n",
       " 'universally',\n",
       " 'acknowledged',\n",
       " 'that',\n",
       " 'a',\n",
       " 'single',\n",
       " 'man',\n",
       " 'in',\n",
       " 'possession',\n",
       " 'of',\n",
       " 'a',\n",
       " 'good',\n",
       " 'fortune',\n",
       " 'must',\n",
       " 'be',\n",
       " 'in',\n",
       " 'want',\n",
       " 'of',\n",
       " 'a',\n",
       " 'wife']"
      ]
     },
     "execution_count": 58,
     "metadata": {},
     "output_type": "execute_result"
    }
   ],
   "source": [
    "# generates a list of the words form string\n",
    "textlist = text.split()\n",
    "textlist"
   ]
  },
  {
   "cell_type": "code",
   "execution_count": 63,
   "id": "84f0a8fd",
   "metadata": {},
   "outputs": [
    {
     "data": {
      "text/plain": [
       "18"
      ]
     },
     "execution_count": 63,
     "metadata": {},
     "output_type": "execute_result"
    }
   ],
   "source": [
    "# unique words pulled\n",
    "uniquewords = dict.fromkeys(textlist)\n",
    "len(uniquewords.keys())"
   ]
  },
  {
   "cell_type": "code",
   "execution_count": 64,
   "id": "ac122666",
   "metadata": {},
   "outputs": [
    {
     "data": {
      "text/plain": [
       "{'IT': 1,\n",
       " 'is': 1,\n",
       " 'a': 4,\n",
       " 'truth': 1,\n",
       " 'universally': 1,\n",
       " 'acknowledged': 1,\n",
       " 'that': 1,\n",
       " 'single': 1,\n",
       " 'man': 1,\n",
       " 'in': 2,\n",
       " 'possession': 1,\n",
       " 'of': 2,\n",
       " 'good': 1,\n",
       " 'fortune': 1,\n",
       " 'must': 1,\n",
       " 'be': 1,\n",
       " 'want': 1,\n",
       " 'wife': 1}"
      ]
     },
     "execution_count": 64,
     "metadata": {},
     "output_type": "execute_result"
    }
   ],
   "source": [
    "# count the unique words\n",
    "for word in textlist:\n",
    "    if uniquewords[word] is None:\n",
    "        uniquewords[word] = 1\n",
    "    else:\n",
    "        uniquewords[word] += 1\n",
    "uniquewords"
   ]
  },
  {
   "cell_type": "code",
   "execution_count": 66,
   "id": "b663a99d",
   "metadata": {},
   "outputs": [
    {
     "data": {
      "text/plain": [
       "[('a', 4),\n",
       " ('in', 2),\n",
       " ('of', 2),\n",
       " ('IT', 1),\n",
       " ('is', 1),\n",
       " ('truth', 1),\n",
       " ('universally', 1),\n",
       " ('acknowledged', 1),\n",
       " ('that', 1),\n",
       " ('single', 1),\n",
       " ('man', 1),\n",
       " ('possession', 1),\n",
       " ('good', 1),\n",
       " ('fortune', 1),\n",
       " ('must', 1),\n",
       " ('be', 1),\n",
       " ('want', 1),\n",
       " ('wife', 1)]"
      ]
     },
     "execution_count": 66,
     "metadata": {},
     "output_type": "execute_result"
    }
   ],
   "source": [
    "# top 25 unique words from above count\n",
    "topwords = sorted(uniquewords.items(), key=lambda key_val_tuple: key_val_tuple[1], reverse=True)\n",
    "topwords"
   ]
  },
  {
   "cell_type": "markdown",
   "id": "e1f0238e",
   "metadata": {},
   "source": [
    "### c. Data Wrangling with Python: Activity 3 page 49"
   ]
  },
  {
   "cell_type": "markdown",
   "id": "af5a3639",
   "metadata": {},
   "source": [
    "### Task 1"
   ]
  },
  {
   "cell_type": "code",
   "execution_count": 11,
   "id": "50ba479c",
   "metadata": {},
   "outputs": [],
   "source": [
    "from itertools import permutations, dropwhile\n",
    "import math"
   ]
  },
  {
   "cell_type": "code",
   "execution_count": null,
   "id": "fa6a5e92",
   "metadata": {},
   "outputs": [],
   "source": [
    "# definitions\n",
    "permutations? \n",
    "dropwhile?"
   ]
  },
  {
   "cell_type": "markdown",
   "id": "942aaa6a",
   "metadata": {},
   "source": [
    "### Task 2"
   ]
  },
  {
   "cell_type": "code",
   "execution_count": 3,
   "id": "d222400f",
   "metadata": {},
   "outputs": [
    {
     "data": {
      "text/plain": [
       "<itertools.permutations at 0x7fae5993abd0>"
      ]
     },
     "execution_count": 3,
     "metadata": {},
     "output_type": "execute_result"
    }
   ],
   "source": [
    "permutations(range(3))"
   ]
  },
  {
   "cell_type": "markdown",
   "id": "cabe9272",
   "metadata": {},
   "source": [
    "### Task 3"
   ]
  },
  {
   "cell_type": "code",
   "execution_count": 4,
   "id": "451b05f3",
   "metadata": {},
   "outputs": [
    {
     "name": "stdout",
     "output_type": "stream",
     "text": [
      "(0, 1, 2)\n",
      "(0, 2, 1)\n",
      "(1, 0, 2)\n",
      "(1, 2, 0)\n",
      "(2, 0, 1)\n",
      "(2, 1, 0)\n"
     ]
    }
   ],
   "source": [
    "for numbtuple in permutations(range(3)):\n",
    "    assert isinstance(numbtuple, tuple)\n",
    "    print(numbtuple)"
   ]
  },
  {
   "cell_type": "markdown",
   "id": "c3ba528d",
   "metadata": {},
   "source": [
    "### Task 4"
   ]
  },
  {
   "cell_type": "code",
   "execution_count": 8,
   "id": "d88f75f0",
   "metadata": {},
   "outputs": [
    {
     "name": "stdout",
     "output_type": "stream",
     "text": [
      "[1, 2]\n",
      "[2, 1]\n",
      "[1, 0, 2]\n",
      "[1, 2, 0]\n",
      "[2, 0, 1]\n",
      "[2, 1, 0]\n"
     ]
    }
   ],
   "source": [
    "for numbtuple in permutations(range(3)):\n",
    "    print(list(dropwhile(lambda x: x <= 0, numbtuple)))"
   ]
  },
  {
   "cell_type": "markdown",
   "id": "95f7d99f",
   "metadata": {},
   "source": [
    "### Task 5"
   ]
  },
  {
   "cell_type": "code",
   "execution_count": 16,
   "id": "05cb3c02",
   "metadata": {},
   "outputs": [
    {
     "name": "stdout",
     "output_type": "stream",
     "text": [
      "12.0\n",
      "21.0\n",
      "102.0\n",
      "120.0\n",
      "201.0\n",
      "210.0\n"
     ]
    }
   ],
   "source": [
    "def converttonumb (numbstack): # using math package\n",
    "    finalnumb = 0 \n",
    "    for i in range (0, len(numbstack)):\n",
    "        finalnumb += (numbstack.pop()*(math.pow(10,i))) # giving the whole number\n",
    "    return finalnumb\n",
    "for numbtuple in permutations(range(3)):\n",
    "    numbstack = list(dropwhile(lambda x: x <= 0, numbtuple)) # dropwhile lambda expression, to a list\n",
    "    print(converttonumb(numbstack))"
   ]
  },
  {
   "cell_type": "markdown",
   "id": "97105f80",
   "metadata": {},
   "source": [
    "### d. Data Wrangling with Python: Activity 4 page 59"
   ]
  },
  {
   "cell_type": "code",
   "execution_count": 52,
   "id": "efd3743c",
   "metadata": {
    "scrolled": false
   },
   "outputs": [],
   "source": [
    "from itertools import zip_longest\n"
   ]
  },
  {
   "cell_type": "code",
   "execution_count": 61,
   "id": "6b4eca73",
   "metadata": {
    "scrolled": true
   },
   "outputs": [
    {
     "name": "stdout",
     "output_type": "stream",
     "text": [
      "{'Region': 'Central America and the Caribbean', 'Country': 'Antigua and Barbuda ', 'Item Type': 'Baby Food', 'Sales Channel': 'Online', 'Order Priority': 'M', 'Order Date': '12/20/2013', 'Order ID': '957081544', 'Ship Date': '1/11/2014', 'Units Sold': '552', 'Unit Price': '255.28', 'Unit Cost': '159.42', 'Total Revenue': '140914.56', 'Total Cost': '87999.84', 'Total Profit': '52914.72'}\n",
      "{'Region': 'Central America and the Caribbean', 'Country': 'Panama', 'Item Type': 'Snacks', 'Sales Channel': 'Offline', 'Order Priority': 'C', 'Order Date': '7/5/2010', 'Order ID': '301644504', 'Ship Date': '7/26/2010', 'Units Sold': '2167', 'Unit Price': '152.58', 'Unit Cost': '97.44', 'Total Revenue': '330640.86', 'Total Cost': '211152.48', 'Total Profit': '119488.38'}\n",
      "{'Region': 'Europe', 'Country': 'Czech Republic', 'Item Type': 'Beverages', 'Sales Channel': 'Offline', 'Order Priority': 'C', 'Order Date': '9/12/2011', 'Order ID': '478051030', 'Ship Date': '9/29/2011', 'Units Sold': '4778', 'Unit Price': '47.45', 'Unit Cost': '31.79', 'Total Revenue': '226716.10', 'Total Cost': '151892.62', 'Total Profit': '74823.48'}\n",
      "{'Region': 'Asia', 'Country': 'North Korea', 'Item Type': 'Cereal', 'Sales Channel': 'Offline', 'Order Priority': 'L', 'Order Date': '5/13/2010', 'Order ID': '892599952', 'Ship Date': '6/15/2010', 'Units Sold': '9016', 'Unit Price': '205.70', 'Unit Cost': '117.11', 'Total Revenue': '1854591.20', 'Total Cost': '1055863.76', 'Total Profit': '798727.44'}\n",
      "{'Region': 'Asia', 'Country': 'Sri Lanka', 'Item Type': 'Snacks', 'Sales Channel': 'Offline', 'Order Priority': 'C', 'Order Date': '7/20/2015', 'Order ID': '571902596', 'Ship Date': '7/27/2015', 'Units Sold': '7542', 'Unit Price': '152.58', 'Unit Cost': '97.44', 'Total Revenue': '1150758.36', 'Total Cost': '734892.48', 'Total Profit': '415865.88'}\n",
      "{'Region': 'Middle East and North Africa', 'Country': 'Morocco', 'Item Type': 'Personal Care', 'Sales Channel': 'Offline', 'Order Priority': 'L', 'Order Date': '11/8/2010', 'Order ID': '412882792', 'Ship Date': '11/22/2010', 'Units Sold': '48', 'Unit Price': '81.73', 'Unit Cost': '56.67', 'Total Revenue': '3923.04', 'Total Cost': '2720.16', 'Total Profit': '1202.88'}\n",
      "{'Region': 'Australia and Oceania', 'Country': 'Federated States of Micronesia', 'Item Type': 'Clothes', 'Sales Channel': 'Offline', 'Order Priority': 'H', 'Order Date': '3/28/2011', 'Order ID': '932776868', 'Ship Date': '5/10/2011', 'Units Sold': '8258', 'Unit Price': '109.28', 'Unit Cost': '35.84', 'Total Revenue': '902434.24', 'Total Cost': '295966.72', 'Total Profit': '606467.52'}\n",
      "{'Region': 'Europe', 'Country': 'Bosnia and Herzegovina', 'Item Type': 'Clothes', 'Sales Channel': 'Online', 'Order Priority': 'M', 'Order Date': '10/14/2013', 'Order ID': '919133651', 'Ship Date': '11/4/2013', 'Units Sold': '927', 'Unit Price': '109.28', 'Unit Cost': '35.84', 'Total Revenue': '101302.56', 'Total Cost': '33223.68', 'Total Profit': '68078.88'}\n",
      "{'Region': 'Middle East and North Africa', 'Country': 'Afghanistan', 'Item Type': 'Clothes', 'Sales Channel': 'Offline', 'Order Priority': 'M', 'Order Date': '8/27/2016', 'Order ID': '579814469', 'Ship Date': '10/5/2016', 'Units Sold': '8841', 'Unit Price': '109.28', 'Unit Cost': '35.84', 'Total Revenue': '966144.48', 'Total Cost': '316861.44', 'Total Profit': '649283.04'}\n",
      "{'Region': 'Sub-Saharan Africa', 'Country': 'Ethiopia', 'Item Type': 'Baby Food', 'Sales Channel': 'Online', 'Order Priority': 'M', 'Order Date': '4/13/2015', 'Order ID': '192993152', 'Ship Date': '5/7/2015', 'Units Sold': '9817', 'Unit Price': '255.28', 'Unit Cost': '159.42', 'Total Revenue': '2506083.76', 'Total Cost': '1565026.14', 'Total Profit': '941057.62'}\n",
      "{'Region': 'Middle East and North Africa', 'Country': 'Turkey', 'Item Type': 'Office Supplies', 'Sales Channel': 'Offline', 'Order Priority': 'C', 'Order Date': '9/25/2013', 'Order ID': '557156026', 'Ship Date': '10/15/2013', 'Units Sold': '3704', 'Unit Price': '651.21', 'Unit Cost': '524.96', 'Total Revenue': '2412081.84', 'Total Cost': '1944451.84', 'Total Profit': '467630.00'}\n",
      "{'Region': 'Middle East and North Africa', 'Country': 'Oman', 'Item Type': 'Cosmetics', 'Sales Channel': 'Online', 'Order Priority': 'M', 'Order Date': '5/12/2013', 'Order ID': '741101920', 'Ship Date': '5/17/2013', 'Units Sold': '7382', 'Unit Price': '437.20', 'Unit Cost': '263.33', 'Total Revenue': '3227410.40', 'Total Cost': '1943902.06', 'Total Profit': '1283508.34'}\n"
     ]
    }
   ],
   "source": [
    "def return_dict_from_csv(header, line):\n",
    "    zipline = zip_longest(header, line, fillvalue=None) # zip\n",
    "# generate final dictonary\n",
    "    retdic = {kv[0]: kv[1] for kv in zipline} \n",
    "    return retdic\n",
    "\n",
    "# opening file from juypter \n",
    "with open(\"sales_record.csv\") as file:\n",
    "    firstline = file.readline() # list of column names\n",
    "    header = firstline.replace(\"\\n\", \"\").split(\",\") # cleaning\n",
    "    \n",
    "    for i, line in enumerate(file): \n",
    "        line = line.replace(\"\\n\", \"\").split(\",\") #cleaning\n",
    "        dic = return_dict_from_csv(header, line)\n",
    "        print(dic)\n",
    "        if i > 10:# limit the output\n",
    "            break"
   ]
  },
  {
   "cell_type": "code",
   "execution_count": null,
   "id": "d1301df1",
   "metadata": {},
   "outputs": [],
   "source": []
  }
 ],
 "metadata": {
  "kernelspec": {
   "display_name": "Python 3 (ipykernel)",
   "language": "python",
   "name": "python3"
  },
  "language_info": {
   "codemirror_mode": {
    "name": "ipython",
    "version": 3
   },
   "file_extension": ".py",
   "mimetype": "text/x-python",
   "name": "python",
   "nbconvert_exporter": "python",
   "pygments_lexer": "ipython3",
   "version": "3.9.13"
  }
 },
 "nbformat": 4,
 "nbformat_minor": 5
}

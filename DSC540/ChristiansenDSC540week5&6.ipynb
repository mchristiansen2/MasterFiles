{
 "cells": [
  {
   "cell_type": "markdown",
   "id": "dcaa3ff8",
   "metadata": {},
   "source": [
    "### DSC5540 Week 5&6\n",
    "### Madison Christiansen"
   ]
  },
  {
   "cell_type": "markdown",
   "id": "7de3125a",
   "metadata": {},
   "source": [
    "#### Activity #7"
   ]
  },
  {
   "cell_type": "code",
   "execution_count": 6,
   "id": "126c389c",
   "metadata": {},
   "outputs": [],
   "source": [
    "from bs4 import BeautifulSoup\n",
    "import pandas as pd"
   ]
  },
  {
   "cell_type": "code",
   "execution_count": 32,
   "id": "08763c97",
   "metadata": {},
   "outputs": [],
   "source": [
    "url=open(\"List of countries by GDP (nominal) - Wikipedia.htm\",'r',encoding=\"utf8\")\n",
    "soup = BeautifulSoup(url)"
   ]
  },
  {
   "cell_type": "code",
   "execution_count": 33,
   "id": "2c11576c",
   "metadata": {},
   "outputs": [
    {
     "name": "stdout",
     "output_type": "stream",
     "text": [
      "Total number of tables: 1 \n"
     ]
    }
   ],
   "source": [
    "all_tables = soup.find_all(\"table\")\n",
    "print(\"Total number of tables: {} \".format(len(all_tables)))"
   ]
  },
  {
   "cell_type": "code",
   "execution_count": null,
   "id": "e655d614",
   "metadata": {},
   "outputs": [],
   "source": []
  },
  {
   "cell_type": "code",
   "execution_count": null,
   "id": "2969f531",
   "metadata": {},
   "outputs": [],
   "source": []
  }
 ],
 "metadata": {
  "kernelspec": {
   "display_name": "Python 3 (ipykernel)",
   "language": "python",
   "name": "python3"
  },
  "language_info": {
   "codemirror_mode": {
    "name": "ipython",
    "version": 3
   },
   "file_extension": ".py",
   "mimetype": "text/x-python",
   "name": "python",
   "nbconvert_exporter": "python",
   "pygments_lexer": "ipython3",
   "version": "3.9.13"
  }
 },
 "nbformat": 4,
 "nbformat_minor": 5
}

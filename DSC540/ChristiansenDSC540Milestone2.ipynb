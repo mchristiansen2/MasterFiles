{
 "cells": [
  {
   "cell_type": "markdown",
   "id": "ce30ffc9",
   "metadata": {},
   "source": [
    "### DSC540 Final Project\n",
    "#### Madison Christiansen"
   ]
  },
  {
   "cell_type": "markdown",
   "id": "8355860c",
   "metadata": {},
   "source": [
    "### Milestone 2"
   ]
  },
  {
   "cell_type": "code",
   "execution_count": 22,
   "id": "074c791d",
   "metadata": {},
   "outputs": [],
   "source": [
    "import pandas as pd\n",
    "import numpy as np\n",
    "import matplotlib.pyplot as plt"
   ]
  },
  {
   "cell_type": "code",
   "execution_count": 50,
   "id": "3dbf08a6",
   "metadata": {},
   "outputs": [
    {
     "data": {
      "text/html": [
       "<div>\n",
       "<style scoped>\n",
       "    .dataframe tbody tr th:only-of-type {\n",
       "        vertical-align: middle;\n",
       "    }\n",
       "\n",
       "    .dataframe tbody tr th {\n",
       "        vertical-align: top;\n",
       "    }\n",
       "\n",
       "    .dataframe thead th {\n",
       "        text-align: right;\n",
       "    }\n",
       "</style>\n",
       "<table border=\"1\" class=\"dataframe\">\n",
       "  <thead>\n",
       "    <tr style=\"text-align: right;\">\n",
       "      <th></th>\n",
       "      <th>rank</th>\n",
       "      <th>title</th>\n",
       "      <th>studio</th>\n",
       "      <th>lifetime_gross</th>\n",
       "      <th>year</th>\n",
       "    </tr>\n",
       "  </thead>\n",
       "  <tbody>\n",
       "    <tr>\n",
       "      <th>0</th>\n",
       "      <td>1</td>\n",
       "      <td>Star Wars: The Force Awakens</td>\n",
       "      <td>BV</td>\n",
       "      <td>936662225</td>\n",
       "      <td>2015</td>\n",
       "    </tr>\n",
       "    <tr>\n",
       "      <th>1</th>\n",
       "      <td>2</td>\n",
       "      <td>Avatar</td>\n",
       "      <td>Fox</td>\n",
       "      <td>760507625</td>\n",
       "      <td>2009</td>\n",
       "    </tr>\n",
       "    <tr>\n",
       "      <th>2</th>\n",
       "      <td>3</td>\n",
       "      <td>Black Panther</td>\n",
       "      <td>BV</td>\n",
       "      <td>700059566</td>\n",
       "      <td>2018</td>\n",
       "    </tr>\n",
       "    <tr>\n",
       "      <th>3</th>\n",
       "      <td>4</td>\n",
       "      <td>Avengers: Infinity War</td>\n",
       "      <td>BV</td>\n",
       "      <td>678681680</td>\n",
       "      <td>2018</td>\n",
       "    </tr>\n",
       "    <tr>\n",
       "      <th>4</th>\n",
       "      <td>5</td>\n",
       "      <td>Titanic</td>\n",
       "      <td>Par.</td>\n",
       "      <td>659363944</td>\n",
       "      <td>1997</td>\n",
       "    </tr>\n",
       "  </tbody>\n",
       "</table>\n",
       "</div>"
      ],
      "text/plain": [
       "   rank                         title studio  lifetime_gross  year\n",
       "0     1  Star Wars: The Force Awakens     BV       936662225  2015\n",
       "1     2                        Avatar    Fox       760507625  2009\n",
       "2     3                 Black Panther     BV       700059566  2018\n",
       "3     4        Avengers: Infinity War     BV       678681680  2018\n",
       "4     5                       Titanic   Par.       659363944  1997"
      ]
     },
     "execution_count": 50,
     "metadata": {},
     "output_type": "execute_result"
    }
   ],
   "source": [
    "flatfile = pd.read_csv(\"/Users/madisonchristiansen/Desktop/boxoffice.csv\")\n",
    "flatfile.head()"
   ]
  },
  {
   "cell_type": "code",
   "execution_count": 51,
   "id": "21a1b49f",
   "metadata": {},
   "outputs": [
    {
     "data": {
      "text/plain": [
       "['rank', 'title', 'studio', 'lifetime_gross', 'year']"
      ]
     },
     "execution_count": 51,
     "metadata": {},
     "output_type": "execute_result"
    }
   ],
   "source": [
    "## column names \n",
    "list(flatfile.columns.values)"
   ]
  },
  {
   "cell_type": "code",
   "execution_count": 52,
   "id": "499274d4",
   "metadata": {},
   "outputs": [
    {
     "data": {
      "text/html": [
       "<div>\n",
       "<style scoped>\n",
       "    .dataframe tbody tr th:only-of-type {\n",
       "        vertical-align: middle;\n",
       "    }\n",
       "\n",
       "    .dataframe tbody tr th {\n",
       "        vertical-align: top;\n",
       "    }\n",
       "\n",
       "    .dataframe thead th {\n",
       "        text-align: right;\n",
       "    }\n",
       "</style>\n",
       "<table border=\"1\" class=\"dataframe\">\n",
       "  <thead>\n",
       "    <tr style=\"text-align: right;\">\n",
       "      <th></th>\n",
       "      <th>Rank</th>\n",
       "      <th>Title</th>\n",
       "      <th>Studio</th>\n",
       "      <th>LifetimeGross</th>\n",
       "      <th>Year</th>\n",
       "    </tr>\n",
       "  </thead>\n",
       "  <tbody>\n",
       "    <tr>\n",
       "      <th>0</th>\n",
       "      <td>1</td>\n",
       "      <td>Star Wars: The Force Awakens</td>\n",
       "      <td>BV</td>\n",
       "      <td>936662225</td>\n",
       "      <td>2015</td>\n",
       "    </tr>\n",
       "    <tr>\n",
       "      <th>1</th>\n",
       "      <td>2</td>\n",
       "      <td>Avatar</td>\n",
       "      <td>Fox</td>\n",
       "      <td>760507625</td>\n",
       "      <td>2009</td>\n",
       "    </tr>\n",
       "    <tr>\n",
       "      <th>2</th>\n",
       "      <td>3</td>\n",
       "      <td>Black Panther</td>\n",
       "      <td>BV</td>\n",
       "      <td>700059566</td>\n",
       "      <td>2018</td>\n",
       "    </tr>\n",
       "    <tr>\n",
       "      <th>3</th>\n",
       "      <td>4</td>\n",
       "      <td>Avengers: Infinity War</td>\n",
       "      <td>BV</td>\n",
       "      <td>678681680</td>\n",
       "      <td>2018</td>\n",
       "    </tr>\n",
       "    <tr>\n",
       "      <th>4</th>\n",
       "      <td>5</td>\n",
       "      <td>Titanic</td>\n",
       "      <td>Par.</td>\n",
       "      <td>659363944</td>\n",
       "      <td>1997</td>\n",
       "    </tr>\n",
       "    <tr>\n",
       "      <th>...</th>\n",
       "      <td>...</td>\n",
       "      <td>...</td>\n",
       "      <td>...</td>\n",
       "      <td>...</td>\n",
       "      <td>...</td>\n",
       "    </tr>\n",
       "    <tr>\n",
       "      <th>15738</th>\n",
       "      <td>15739</td>\n",
       "      <td>Dog Eat Dog</td>\n",
       "      <td>IFC</td>\n",
       "      <td>80</td>\n",
       "      <td>2009</td>\n",
       "    </tr>\n",
       "    <tr>\n",
       "      <th>15739</th>\n",
       "      <td>15740</td>\n",
       "      <td>Paranoid Girls</td>\n",
       "      <td>NaN</td>\n",
       "      <td>78</td>\n",
       "      <td>2015</td>\n",
       "    </tr>\n",
       "    <tr>\n",
       "      <th>15740</th>\n",
       "      <td>15741</td>\n",
       "      <td>Confession of a Child of the Century</td>\n",
       "      <td>Cohen</td>\n",
       "      <td>74</td>\n",
       "      <td>2015</td>\n",
       "    </tr>\n",
       "    <tr>\n",
       "      <th>15741</th>\n",
       "      <td>15742</td>\n",
       "      <td>Storage 24</td>\n",
       "      <td>Magn.</td>\n",
       "      <td>72</td>\n",
       "      <td>2013</td>\n",
       "    </tr>\n",
       "    <tr>\n",
       "      <th>15742</th>\n",
       "      <td>15743</td>\n",
       "      <td>Zyzzyx Road</td>\n",
       "      <td>Reg.</td>\n",
       "      <td>30</td>\n",
       "      <td>2006</td>\n",
       "    </tr>\n",
       "  </tbody>\n",
       "</table>\n",
       "<p>15743 rows × 5 columns</p>\n",
       "</div>"
      ],
      "text/plain": [
       "        Rank                                 Title Studio  LifetimeGross  Year\n",
       "0          1          Star Wars: The Force Awakens     BV      936662225  2015\n",
       "1          2                                Avatar    Fox      760507625  2009\n",
       "2          3                         Black Panther     BV      700059566  2018\n",
       "3          4                Avengers: Infinity War     BV      678681680  2018\n",
       "4          5                               Titanic   Par.      659363944  1997\n",
       "...      ...                                   ...    ...            ...   ...\n",
       "15738  15739                           Dog Eat Dog    IFC             80  2009\n",
       "15739  15740                        Paranoid Girls    NaN             78  2015\n",
       "15740  15741  Confession of a Child of the Century  Cohen             74  2015\n",
       "15741  15742                            Storage 24  Magn.             72  2013\n",
       "15742  15743                           Zyzzyx Road   Reg.             30  2006\n",
       "\n",
       "[15743 rows x 5 columns]"
      ]
     },
     "execution_count": 52,
     "metadata": {},
     "output_type": "execute_result"
    }
   ],
   "source": [
    "# STEP 1\n",
    "## For step 1 replacing the columns headers with new ones for a more uniform and clean look. \n",
    "##Allows for future transformation of the dataset. \n",
    "\n",
    "flatfile = flatfile.rename(columns={'rank': 'Rank', 'title': 'Title', 'studio': 'Studio', 'lifetime_gross': 'LifetimeGross', 'year': 'Year'})\n",
    "flatfile"
   ]
  },
  {
   "cell_type": "code",
   "execution_count": 56,
   "id": "dcb6b7da",
   "metadata": {},
   "outputs": [
    {
     "name": "stdout",
     "output_type": "stream",
     "text": [
      "Rank Column: False\n",
      "Title Column:True\n",
      "Studio Column:True\n",
      "Lifetime Gross Column:True\n",
      "Year Column:True\n"
     ]
    }
   ],
   "source": [
    "# STEP 2\n",
    "## Checking for duplicates and making sure the data is not repeated. \n",
    "## Checking all coloumns, although the most important columns are rank and title. \n",
    "\n",
    "print('Rank Column: {}'.format(any(flatfile.duplicated(subset=['Rank']))))\n",
    "print('Title Column:{}'.format(any(flatfile.duplicated(subset=['Title'])))) \n",
    "print('Studio Column:{}'.format(any(flatfile.duplicated(subset=['Studio']))))\n",
    "print('Lifetime Gross Column:{}'.format(any(flatfile.duplicated(subset=['LifetimeGross']))))\n",
    "print('Year Column:{}'.format(any(flatfile.duplicated(subset=['Year']))))"
   ]
  },
  {
   "cell_type": "code",
   "execution_count": 57,
   "id": "b46fb104",
   "metadata": {},
   "outputs": [
    {
     "data": {
      "text/html": [
       "<div>\n",
       "<style scoped>\n",
       "    .dataframe tbody tr th:only-of-type {\n",
       "        vertical-align: middle;\n",
       "    }\n",
       "\n",
       "    .dataframe tbody tr th {\n",
       "        vertical-align: top;\n",
       "    }\n",
       "\n",
       "    .dataframe thead th {\n",
       "        text-align: right;\n",
       "    }\n",
       "</style>\n",
       "<table border=\"1\" class=\"dataframe\">\n",
       "  <thead>\n",
       "    <tr style=\"text-align: right;\">\n",
       "      <th></th>\n",
       "      <th>Rank</th>\n",
       "      <th>Title</th>\n",
       "      <th>Studio</th>\n",
       "      <th>LifetimeGross</th>\n",
       "      <th>Year</th>\n",
       "    </tr>\n",
       "  </thead>\n",
       "  <tbody>\n",
       "    <tr>\n",
       "      <th>11962</th>\n",
       "      <td>11963</td>\n",
       "      <td>After Midnight</td>\n",
       "      <td>Avat.</td>\n",
       "      <td>50469</td>\n",
       "      <td>2004</td>\n",
       "    </tr>\n",
       "    <tr>\n",
       "      <th>11328</th>\n",
       "      <td>11329</td>\n",
       "      <td>After Midnight</td>\n",
       "      <td>MGM</td>\n",
       "      <td>76325</td>\n",
       "      <td>1989</td>\n",
       "    </tr>\n",
       "    <tr>\n",
       "      <th>1959</th>\n",
       "      <td>1960</td>\n",
       "      <td>Around the World in 80 Days</td>\n",
       "      <td>UA</td>\n",
       "      <td>42000000</td>\n",
       "      <td>1956</td>\n",
       "    </tr>\n",
       "    <tr>\n",
       "      <th>3045</th>\n",
       "      <td>3046</td>\n",
       "      <td>Around the World in 80 Days</td>\n",
       "      <td>BV</td>\n",
       "      <td>24008137</td>\n",
       "      <td>2004</td>\n",
       "    </tr>\n",
       "    <tr>\n",
       "      <th>12556</th>\n",
       "      <td>12557</td>\n",
       "      <td>Bluebeard</td>\n",
       "      <td>Strand</td>\n",
       "      <td>33490</td>\n",
       "      <td>2010</td>\n",
       "    </tr>\n",
       "    <tr>\n",
       "      <th>...</th>\n",
       "      <td>...</td>\n",
       "      <td>...</td>\n",
       "      <td>...</td>\n",
       "      <td>...</td>\n",
       "      <td>...</td>\n",
       "    </tr>\n",
       "    <tr>\n",
       "      <th>5496</th>\n",
       "      <td>5497</td>\n",
       "      <td>Water</td>\n",
       "      <td>FoxS</td>\n",
       "      <td>5529144</td>\n",
       "      <td>2006</td>\n",
       "    </tr>\n",
       "    <tr>\n",
       "      <th>3243</th>\n",
       "      <td>3244</td>\n",
       "      <td>When a Stranger Calls</td>\n",
       "      <td>Col.</td>\n",
       "      <td>21411158</td>\n",
       "      <td>1979</td>\n",
       "    </tr>\n",
       "    <tr>\n",
       "      <th>1729</th>\n",
       "      <td>1730</td>\n",
       "      <td>When a Stranger Calls</td>\n",
       "      <td>SGem</td>\n",
       "      <td>47860214</td>\n",
       "      <td>2006</td>\n",
       "    </tr>\n",
       "    <tr>\n",
       "      <th>7713</th>\n",
       "      <td>7714</td>\n",
       "      <td>Whore</td>\n",
       "      <td>Trim.</td>\n",
       "      <td>1008404</td>\n",
       "      <td>1991</td>\n",
       "    </tr>\n",
       "    <tr>\n",
       "      <th>14903</th>\n",
       "      <td>14904</td>\n",
       "      <td>Whore</td>\n",
       "      <td>Scre.</td>\n",
       "      <td>5130</td>\n",
       "      <td>2004</td>\n",
       "    </tr>\n",
       "  </tbody>\n",
       "</table>\n",
       "<p>87 rows × 5 columns</p>\n",
       "</div>"
      ],
      "text/plain": [
       "        Rank                        Title  Studio  LifetimeGross  Year\n",
       "11962  11963               After Midnight   Avat.          50469  2004\n",
       "11328  11329               After Midnight     MGM          76325  1989\n",
       "1959    1960  Around the World in 80 Days      UA       42000000  1956\n",
       "3045    3046  Around the World in 80 Days      BV       24008137  2004\n",
       "12556  12557                    Bluebeard  Strand          33490  2010\n",
       "...      ...                          ...     ...            ...   ...\n",
       "5496    5497                        Water    FoxS        5529144  2006\n",
       "3243    3244        When a Stranger Calls    Col.       21411158  1979\n",
       "1729    1730        When a Stranger Calls    SGem       47860214  2006\n",
       "7713    7714                        Whore   Trim.        1008404  1991\n",
       "14903  14904                        Whore   Scre.           5130  2004\n",
       "\n",
       "[87 rows x 5 columns]"
      ]
     },
     "execution_count": 57,
     "metadata": {},
     "output_type": "execute_result"
    }
   ],
   "source": [
    "## Title column has duplicates, checking what they are. \n",
    "## The duplicates are remakes of the same movie from different years, this will not impact my data. \n",
    "## Keeping the duplicates.\n",
    "\n",
    "title = flatfile[\"Title\"]\n",
    "flatfile[title.isin(title[title.duplicated()])].sort_values(\"Title\")"
   ]
  },
  {
   "cell_type": "code",
   "execution_count": 59,
   "id": "429ab665",
   "metadata": {},
   "outputs": [
    {
     "name": "stdout",
     "output_type": "stream",
     "text": [
      "Rank Column:  0\n",
      "Title Column: 0\n",
      "Studio Column:  35\n",
      "Lifetime Gross Column:  0\n",
      "Year Column:  0\n"
     ]
    }
   ],
   "source": [
    "# STEP 3\n",
    "## Checking for NaN values. \n",
    "## This gives an idea as to if the data is all usable and if there are any rows that are incomplete.\n",
    "\n",
    "print(\"Rank Column: \", flatfile['Rank'].isnull().sum())\n",
    "print(\"Title Column:\", flatfile['Title'].isnull().sum())\n",
    "print(\"Studio Column: \", flatfile['Studio'].isnull().sum())\n",
    "print(\"Lifetime Gross Column: \", flatfile['LifetimeGross'].isnull().sum())\n",
    "print(\"Year Column: \", flatfile['Year'].isnull().sum())"
   ]
  },
  {
   "cell_type": "code",
   "execution_count": 60,
   "id": "b1a5b40d",
   "metadata": {},
   "outputs": [
    {
     "name": "stdout",
     "output_type": "stream",
     "text": [
      "0        False\n",
      "1        False\n",
      "2        False\n",
      "3        False\n",
      "4        False\n",
      "         ...  \n",
      "15738    False\n",
      "15739     True\n",
      "15740    False\n",
      "15741    False\n",
      "15742    False\n",
      "Name: Studio, Length: 15743, dtype: bool\n"
     ]
    }
   ],
   "source": [
    "check_for_nan = flatfile['Studio'].isnull()\n",
    "print (check_for_nan)\n",
    "## With the nan values being in the studio column only, I think it wont impact the dataset by keeping these rows.\n",
    "## This will show us what titles have unknown studios and what their data looks like."
   ]
  },
  {
   "cell_type": "code",
   "execution_count": 63,
   "id": "8df1f642",
   "metadata": {},
   "outputs": [
    {
     "data": {
      "text/plain": [
       "{'whiskers': [<matplotlib.lines.Line2D at 0x7fbc8bd1e730>,\n",
       "  <matplotlib.lines.Line2D at 0x7fbc8bd1ea00>],\n",
       " 'caps': [<matplotlib.lines.Line2D at 0x7fbc8bd1ecd0>,\n",
       "  <matplotlib.lines.Line2D at 0x7fbc8bd1efa0>],\n",
       " 'boxes': [<matplotlib.lines.Line2D at 0x7fbc8bd1e460>],\n",
       " 'medians': [<matplotlib.lines.Line2D at 0x7fbc8bd2c2b0>],\n",
       " 'fliers': [<matplotlib.lines.Line2D at 0x7fbc8bd2c580>],\n",
       " 'means': []}"
      ]
     },
     "execution_count": 63,
     "metadata": {},
     "output_type": "execute_result"
    },
    {
     "data": {
      "image/png": "[encoded data removed]",
      "text/plain": [
       "<Figure size 640x480 with 1 Axes>"
      ]
     },
     "metadata": {},
     "output_type": "display_data"
    }
   ],
   "source": [
    "# STEP 4\n",
    "## Identifying outliers for the different columns.\n",
    "## Looking at spesifically the lifetime gross and year columns to see if there is bad data within thoes. \n",
    "\n",
    "plt.boxplot(flatfile.LifetimeGross)\n",
    "## The lifetime gross column does not show any significant outliers or bad data. "
   ]
  },
  {
   "cell_type": "code",
   "execution_count": 64,
   "id": "76653b43",
   "metadata": {
    "scrolled": true
   },
   "outputs": [
    {
     "data": {
      "text/plain": [
       "{'whiskers': [<matplotlib.lines.Line2D at 0x7fbc382f3550>,\n",
       "  <matplotlib.lines.Line2D at 0x7fbc382f3820>],\n",
       " 'caps': [<matplotlib.lines.Line2D at 0x7fbc382f3af0>,\n",
       "  <matplotlib.lines.Line2D at 0x7fbc382f3dc0>],\n",
       " 'boxes': [<matplotlib.lines.Line2D at 0x7fbc382f3280>],\n",
       " 'medians': [<matplotlib.lines.Line2D at 0x7fbc383020d0>],\n",
       " 'fliers': [<matplotlib.lines.Line2D at 0x7fbc383023a0>],\n",
       " 'means': []}"
      ]
     },
     "execution_count": 64,
     "metadata": {},
     "output_type": "execute_result"
    },
    {
     "data": {
      "image/png": "[encoded data removed]",
      "text/plain": [
       "<Figure size 640x480 with 1 Axes>"
      ]
     },
     "metadata": {},
     "output_type": "display_data"
    }
   ],
   "source": [
    "plt.boxplot(flatfile.Year)\n",
    "## The year column shows outliers although they are not bad data."
   ]
  },
  {
   "cell_type": "code",
   "execution_count": 83,
   "id": "3699fec9",
   "metadata": {},
   "outputs": [],
   "source": [
    "# STEP 5 \n",
    "## Adding a column to label which data is a repeate of the same film from a different year.\n",
    "def f(flatfile):\n",
    "    m1 = flatfile.duplicated(['Title'], keep=False)\n",
    "\n",
    "    flatfile['Duplicate Title'] = np.select([m1],['dup_title'], default='NaD')\n",
    "    return flatfile\n",
    "\n",
    "flatfile2 = f(flatfile)"
   ]
  },
  {
   "cell_type": "code",
   "execution_count": 85,
   "id": "92227bfd",
   "metadata": {},
   "outputs": [],
   "source": [
    "flatfile2 = flatfile2.drop(columns=['DUP'])"
   ]
  },
  {
   "cell_type": "code",
   "execution_count": 94,
   "id": "000d1de9",
   "metadata": {},
   "outputs": [
    {
     "name": "stdout",
     "output_type": "stream",
     "text": [
      "        Rank                                 Title Studio  LifetimeGross  \\\n",
      "0          1          Star Wars: The Force Awakens     BV      936662225   \n",
      "1          2                                Avatar    Fox      760507625   \n",
      "2          3                         Black Panther     BV      700059566   \n",
      "3          4                Avengers: Infinity War     BV      678681680   \n",
      "4          5                               Titanic   Par.      659363944   \n",
      "...      ...                                   ...    ...            ...   \n",
      "15738  15739                           Dog Eat Dog    IFC             80   \n",
      "15739  15740                        Paranoid Girls    NaN             78   \n",
      "15740  15741  Confession of a Child of the Century  Cohen             74   \n",
      "15741  15742                            Storage 24  Magn.             72   \n",
      "15742  15743                           Zyzzyx Road   Reg.             30   \n",
      "\n",
      "       Year Duplicate Title  Missing  Missing Studio Data  \n",
      "0      2015             NaD        1                    1  \n",
      "1      2009             NaD        1                    1  \n",
      "2      2018             NaD        1                    1  \n",
      "3      2018             NaD        1                    1  \n",
      "4      1997             NaD        1                    1  \n",
      "...     ...             ...      ...                  ...  \n",
      "15738  2009             NaD        1                    1  \n",
      "15739  2015             NaD        0                    0  \n",
      "15740  2015             NaD        1                    1  \n",
      "15741  2013             NaD        1                    1  \n",
      "15742  2006             NaD        1                    1  \n",
      "\n",
      "[15743 rows x 8 columns]\n",
      "      Rank                  Title Studio  LifetimeGross  Year Duplicate Title  \\\n",
      "3243  3244  When a Stranger Calls   Col.       21411158  1979       dup_title   \n",
      "\n",
      "      Missing  Missing Studio Data  \n",
      "3243        1                    1  \n",
      "      Rank                  Title Studio  LifetimeGross  Year Duplicate Title  \\\n",
      "1729  1730  When a Stranger Calls   SGem       47860214  2006       dup_title   \n",
      "\n",
      "      Missing  Missing Studio Data  \n",
      "1729        1                    1  \n"
     ]
    }
   ],
   "source": [
    "## Checking if it worked\n",
    "print(flatfile2)\n",
    "print(flatfile2.loc[[3243]])\n",
    "print(flatfile2.loc[[1729]])"
   ]
  },
  {
   "cell_type": "code",
   "execution_count": 96,
   "id": "bc0dfa46",
   "metadata": {},
   "outputs": [],
   "source": [
    "# STEP 6\n",
    "## Adding a column to indicate which row is missing the studio data. \n",
    "## 1=not missing \n",
    "## 0=missing\n",
    "flatfile2['Missing Studio Data'] = (~flatfile2['Studio'].isnull()).astype(int)"
   ]
  },
  {
   "cell_type": "code",
   "execution_count": 98,
   "id": "baa0b487",
   "metadata": {},
   "outputs": [],
   "source": [
    "flatfile2 = flatfile2.drop(columns=['Missing'])"
   ]
  },
  {
   "cell_type": "code",
   "execution_count": 99,
   "id": "532ed935",
   "metadata": {},
   "outputs": [
    {
     "data": {
      "text/html": [
       "<div>\n",
       "<style scoped>\n",
       "    .dataframe tbody tr th:only-of-type {\n",
       "        vertical-align: middle;\n",
       "    }\n",
       "\n",
       "    .dataframe tbody tr th {\n",
       "        vertical-align: top;\n",
       "    }\n",
       "\n",
       "    .dataframe thead th {\n",
       "        text-align: right;\n",
       "    }\n",
       "</style>\n",
       "<table border=\"1\" class=\"dataframe\">\n",
       "  <thead>\n",
       "    <tr style=\"text-align: right;\">\n",
       "      <th></th>\n",
       "      <th>Rank</th>\n",
       "      <th>Title</th>\n",
       "      <th>Studio</th>\n",
       "      <th>LifetimeGross</th>\n",
       "      <th>Year</th>\n",
       "      <th>Duplicate Title</th>\n",
       "      <th>Missing Studio Data</th>\n",
       "    </tr>\n",
       "  </thead>\n",
       "  <tbody>\n",
       "    <tr>\n",
       "      <th>0</th>\n",
       "      <td>1</td>\n",
       "      <td>Star Wars: The Force Awakens</td>\n",
       "      <td>BV</td>\n",
       "      <td>936662225</td>\n",
       "      <td>2015</td>\n",
       "      <td>NaD</td>\n",
       "      <td>1</td>\n",
       "    </tr>\n",
       "    <tr>\n",
       "      <th>1</th>\n",
       "      <td>2</td>\n",
       "      <td>Avatar</td>\n",
       "      <td>Fox</td>\n",
       "      <td>760507625</td>\n",
       "      <td>2009</td>\n",
       "      <td>NaD</td>\n",
       "      <td>1</td>\n",
       "    </tr>\n",
       "    <tr>\n",
       "      <th>2</th>\n",
       "      <td>3</td>\n",
       "      <td>Black Panther</td>\n",
       "      <td>BV</td>\n",
       "      <td>700059566</td>\n",
       "      <td>2018</td>\n",
       "      <td>NaD</td>\n",
       "      <td>1</td>\n",
       "    </tr>\n",
       "    <tr>\n",
       "      <th>3</th>\n",
       "      <td>4</td>\n",
       "      <td>Avengers: Infinity War</td>\n",
       "      <td>BV</td>\n",
       "      <td>678681680</td>\n",
       "      <td>2018</td>\n",
       "      <td>NaD</td>\n",
       "      <td>1</td>\n",
       "    </tr>\n",
       "    <tr>\n",
       "      <th>4</th>\n",
       "      <td>5</td>\n",
       "      <td>Titanic</td>\n",
       "      <td>Par.</td>\n",
       "      <td>659363944</td>\n",
       "      <td>1997</td>\n",
       "      <td>NaD</td>\n",
       "      <td>1</td>\n",
       "    </tr>\n",
       "  </tbody>\n",
       "</table>\n",
       "</div>"
      ],
      "text/plain": [
       "   Rank                         Title Studio  LifetimeGross  Year  \\\n",
       "0     1  Star Wars: The Force Awakens     BV      936662225  2015   \n",
       "1     2                        Avatar    Fox      760507625  2009   \n",
       "2     3                 Black Panther     BV      700059566  2018   \n",
       "3     4        Avengers: Infinity War     BV      678681680  2018   \n",
       "4     5                       Titanic   Par.      659363944  1997   \n",
       "\n",
       "  Duplicate Title  Missing Studio Data  \n",
       "0             NaD                    1  \n",
       "1             NaD                    1  \n",
       "2             NaD                    1  \n",
       "3             NaD                    1  \n",
       "4             NaD                    1  "
      ]
     },
     "execution_count": 99,
     "metadata": {},
     "output_type": "execute_result"
    }
   ],
   "source": [
    "flatfile2.head()"
   ]
  },
  {
   "cell_type": "code",
   "execution_count": null,
   "id": "c5a1067f",
   "metadata": {},
   "outputs": [],
   "source": []
  }
 ],
 "metadata": {
  "kernelspec": {
   "display_name": "Python 3 (ipykernel)",
   "language": "python",
   "name": "python3"
  },
  "language_info": {
   "codemirror_mode": {
    "name": "ipython",
    "version": 3
   },
   "file_extension": ".py",
   "mimetype": "text/x-python",
   "name": "python",
   "nbconvert_exporter": "python",
   "pygments_lexer": "ipython3",
   "version": "3.9.13"
  }
 },
 "nbformat": 4,
 "nbformat_minor": 5
}

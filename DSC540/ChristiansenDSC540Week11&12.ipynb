{
 "cells": [
  {
   "cell_type": "markdown",
   "id": "496f5e01",
   "metadata": {},
   "source": [
    "### DSC540 Week 11&12\n",
    "### Madison Christiansen"
   ]
  },
  {
   "cell_type": "markdown",
   "id": "7e9ed37d",
   "metadata": {},
   "source": [
    "#### Task 1: (Connect to the supplied petsDB, and (OPTIONAL) write a function to check if the connection is done)"
   ]
  },
  {
   "cell_type": "code",
   "execution_count": 33,
   "id": "d7c9a518",
   "metadata": {},
   "outputs": [],
   "source": [
    "import sqlite3"
   ]
  },
  {
   "cell_type": "code",
   "execution_count": 36,
   "id": "1a5e52a1",
   "metadata": {},
   "outputs": [
    {
     "name": "stdout",
     "output_type": "stream",
     "text": [
      "Connection successful\n"
     ]
    }
   ],
   "source": [
    "def check_conn():\n",
    "    try:\n",
    "        conn = sqlite3.connect('petsdb-2')\n",
    "        \n",
    "        if conn is not None:\n",
    "            print(\"Connection successful\")\n",
    "            conn.close()\n",
    "        else:\n",
    "            print(\"Failed.\")\n",
    "    except sqlite3.Error as e:\n",
    "        print(\"Error:\", e)\n",
    "\n",
    "check_conn()"
   ]
  },
  {
   "cell_type": "markdown",
   "id": "579a8554",
   "metadata": {},
   "source": [
    "### Task 2: (What are the different age groups in the persons database)\n"
   ]
  },
  {
   "cell_type": "code",
   "execution_count": 44,
   "id": "378d77f0",
   "metadata": {
    "collapsed": true
   },
   "outputs": [
    {
     "name": "stdout",
     "output_type": "stream",
     "text": [
      "2 people aged 5\n",
      "1 people aged 6\n",
      "1 people aged 7\n",
      "3 people aged 8\n",
      "1 people aged 9\n",
      "2 people aged 11\n",
      "3 people aged 12\n",
      "1 people aged 13\n",
      "4 people aged 14\n",
      "2 people aged 16\n",
      "2 people aged 17\n",
      "3 people aged 18\n",
      "1 people aged 19\n",
      "3 people aged 22\n",
      "2 people aged 23\n",
      "3 people aged 24\n",
      "2 people aged 25\n",
      "1 people aged 27\n",
      "1 people aged 30\n",
      "3 people aged 31\n",
      "1 people aged 32\n",
      "1 people aged 33\n",
      "2 people aged 34\n",
      "3 people aged 35\n",
      "3 people aged 36\n",
      "1 people aged 37\n",
      "2 people aged 39\n",
      "1 people aged 40\n",
      "1 people aged 42\n",
      "2 people aged 44\n",
      "2 people aged 48\n",
      "1 people aged 49\n",
      "1 people aged 50\n",
      "2 people aged 51\n",
      "2 people aged 52\n",
      "2 people aged 53\n",
      "2 people aged 54\n",
      "1 people aged 58\n",
      "1 people aged 59\n",
      "1 people aged 60\n",
      "1 people aged 61\n",
      "2 people aged 62\n",
      "1 people aged 63\n",
      "2 people aged 65\n",
      "2 people aged 66\n",
      "1 people aged 67\n",
      "3 people aged 68\n",
      "1 people aged 69\n",
      "1 people aged 70\n",
      "4 people aged 71\n",
      "1 people aged 72\n",
      "5 people aged 73\n",
      "3 people aged 74\n"
     ]
    }
   ],
   "source": [
    "cursor = conn.cursor()\n",
    "for ppl, age in cursor.execute(\"select count(*), age from persons group by age\"):\n",
    "    print(\"{} people aged {}\".format(ppl, age))"
   ]
  },
  {
   "cell_type": "markdown",
   "id": "6d274f5c",
   "metadata": {},
   "source": [
    "#### Task 3: Which age group has maximum number of people?"
   ]
  },
  {
   "cell_type": "code",
   "execution_count": 51,
   "id": "2cf56cc7",
   "metadata": {
    "collapsed": true
   },
   "outputs": [
    {
     "name": "stdout",
     "output_type": "stream",
     "text": [
      "Most people 1 are from 6 agre group.\n",
      "Most people 1 are from 7 agre group.\n",
      "Most people 1 are from 9 agre group.\n",
      "Most people 1 are from 13 agre group.\n",
      "Most people 1 are from 19 agre group.\n",
      "Most people 1 are from 27 agre group.\n",
      "Most people 1 are from 30 agre group.\n",
      "Most people 1 are from 32 agre group.\n",
      "Most people 1 are from 33 agre group.\n",
      "Most people 1 are from 37 agre group.\n",
      "Most people 1 are from 40 agre group.\n",
      "Most people 1 are from 42 agre group.\n",
      "Most people 1 are from 49 agre group.\n",
      "Most people 1 are from 50 agre group.\n",
      "Most people 1 are from 58 agre group.\n",
      "Most people 1 are from 59 agre group.\n",
      "Most people 1 are from 60 agre group.\n",
      "Most people 1 are from 61 agre group.\n",
      "Most people 1 are from 63 agre group.\n",
      "Most people 1 are from 67 agre group.\n",
      "Most people 1 are from 69 agre group.\n",
      "Most people 1 are from 70 agre group.\n",
      "Most people 1 are from 72 agre group.\n",
      "Most people 2 are from 5 agre group.\n",
      "Most people 2 are from 11 agre group.\n",
      "Most people 2 are from 16 agre group.\n",
      "Most people 2 are from 17 agre group.\n",
      "Most people 2 are from 23 agre group.\n",
      "Most people 2 are from 25 agre group.\n",
      "Most people 2 are from 34 agre group.\n",
      "Most people 2 are from 39 agre group.\n",
      "Most people 2 are from 44 agre group.\n",
      "Most people 2 are from 48 agre group.\n",
      "Most people 2 are from 51 agre group.\n",
      "Most people 2 are from 52 agre group.\n",
      "Most people 2 are from 53 agre group.\n",
      "Most people 2 are from 54 agre group.\n",
      "Most people 2 are from 62 agre group.\n",
      "Most people 2 are from 65 agre group.\n",
      "Most people 2 are from 66 agre group.\n",
      "Most people 3 are from 8 agre group.\n",
      "Most people 3 are from 12 agre group.\n",
      "Most people 3 are from 18 agre group.\n",
      "Most people 3 are from 22 agre group.\n",
      "Most people 3 are from 24 agre group.\n",
      "Most people 3 are from 31 agre group.\n",
      "Most people 3 are from 35 agre group.\n",
      "Most people 3 are from 36 agre group.\n",
      "Most people 3 are from 68 agre group.\n",
      "Most people 3 are from 74 agre group.\n",
      "Most people 4 are from 14 agre group.\n",
      "Most people 4 are from 71 agre group.\n",
      "Most people 5 are from 73 agre group.\n"
     ]
    }
   ],
   "source": [
    "for ppl, age in cursor.execute(\"select count(*), age from persons group by age order by count(*)\"):\n",
    "    print(\"Most people {} are from {} agre group.\".format(ppl, age))"
   ]
  },
  {
   "cell_type": "markdown",
   "id": "01a9d607",
   "metadata": {},
   "source": [
    "#### Task 4: How many people do not have a full name (Last name is blank/null)"
   ]
  },
  {
   "cell_type": "code",
   "execution_count": 49,
   "id": "20cf8984",
   "metadata": {
    "scrolled": true
   },
   "outputs": [
    {
     "name": "stdout",
     "output_type": "stream",
     "text": [
      "60 people do not have a full name.\n"
     ]
    }
   ],
   "source": [
    "name = cursor.execute(\"select count(*) from persons where last_name is null\")\n",
    "for row in name:\n",
    "    print(\"{} people do not have a full name.\".format(row[0]))"
   ]
  },
  {
   "cell_type": "markdown",
   "id": "a995f985",
   "metadata": {},
   "source": [
    "#### Task 5: How many people has more than one pet? (*)"
   ]
  },
  {
   "cell_type": "code",
   "execution_count": 46,
   "id": "83b579de",
   "metadata": {},
   "outputs": [
    {
     "name": "stdout",
     "output_type": "stream",
     "text": [
      "43 people have more than one pet.\n"
     ]
    }
   ],
   "source": [
    "pet = cursor.execute(\"select count(*) from (select count(owner_id) from pets group by owner_id having count(owner_id) >1)\")\n",
    "for row in pet:\n",
    "    print(\"{} people have more than one pet.\".format(row[0]))"
   ]
  },
  {
   "cell_type": "markdown",
   "id": "bdb61e63",
   "metadata": {},
   "source": [
    "#### Task 6: How many pets have received treaments?"
   ]
  },
  {
   "cell_type": "code",
   "execution_count": 48,
   "id": "9da2794e",
   "metadata": {},
   "outputs": [
    {
     "name": "stdout",
     "output_type": "stream",
     "text": [
      "36 pets have revcieved treamtent.\n"
     ]
    }
   ],
   "source": [
    "treat = cursor.execute(\"select count(*) from pets where treatment_done=1\")\n",
    "for row in treat:\n",
    "    print(\"{} pets have revcieved treamtent.\".format(row[0]))"
   ]
  },
  {
   "cell_type": "markdown",
   "id": "572c5e68",
   "metadata": {},
   "source": [
    "#### Task 7: How many pets have received treatment that we know the type of?"
   ]
  },
  {
   "cell_type": "code",
   "execution_count": 53,
   "id": "703676b5",
   "metadata": {},
   "outputs": [
    {
     "name": "stdout",
     "output_type": "stream",
     "text": [
      "16 pets have revcieved treamtent that we know the type of.\n"
     ]
    }
   ],
   "source": [
    "typ = cursor.execute(\"select count(*) from pets where treatment_done=1 and pet_type is not null\")\n",
    "for row in typ:\n",
    "    print(\"{} pets have revcieved treamtent that we know the type of.\".format(row[0]))"
   ]
  },
  {
   "cell_type": "markdown",
   "id": "b803aaf7",
   "metadata": {},
   "source": [
    "#### Task 8: How many pets are there from the city called \"east port\""
   ]
  },
  {
   "cell_type": "code",
   "execution_count": 55,
   "id": "ee05cbd6",
   "metadata": {},
   "outputs": [
    {
     "name": "stdout",
     "output_type": "stream",
     "text": [
      "49 pets are from East Port.\n"
     ]
    }
   ],
   "source": [
    "east = cursor.execute(\"select count(*) from pets join persons on pets.owner_id = persons.id where persons.city='east port'\")\n",
    "for row in east:\n",
    "    print(\"{} pets are from East Port.\".format(row[0]))"
   ]
  },
  {
   "cell_type": "markdown",
   "id": "62e5be82",
   "metadata": {},
   "source": [
    "#### Task 9: How many pets are there from the city called \"east port\" and who received a treatment?"
   ]
  },
  {
   "cell_type": "code",
   "execution_count": 57,
   "id": "5ae8822c",
   "metadata": {},
   "outputs": [
    {
     "name": "stdout",
     "output_type": "stream",
     "text": [
      "11 pets are from East Port and have recieved treatment.\n"
     ]
    }
   ],
   "source": [
    "eastreat = cursor.execute(\"select count(*) from pets join persons on pets.owner_id = persons.id where persons.city='east port' and pets.treatment_done=1\")\n",
    "for row in eastreat:\n",
    "    print(\"{} pets are from East Port and have recieved treatment.\".format(row[0]))"
   ]
  }
 ],
 "metadata": {
  "kernelspec": {
   "display_name": "Python 3 (ipykernel)",
   "language": "python",
   "name": "python3"
  },
  "language_info": {
   "codemirror_mode": {
    "name": "ipython",
    "version": 3
   },
   "file_extension": ".py",
   "mimetype": "text/x-python",
   "name": "python",
   "nbconvert_exporter": "python",
   "pygments_lexer": "ipython3",
   "version": "3.9.13"
  }
 },
 "nbformat": 4,
 "nbformat_minor": 5
}

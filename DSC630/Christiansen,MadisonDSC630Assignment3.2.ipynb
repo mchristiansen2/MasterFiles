{
 "cells": [
  {
   "cell_type": "markdown",
   "id": "cbbf4211",
   "metadata": {},
   "source": [
    "### DSC630 Assignment 3.2\n",
    "#### Madison Christiansen "
   ]
  },
  {
   "cell_type": "markdown",
   "id": "d4c54cc5",
   "metadata": {},
   "source": [
    "##### In this assignment, you will be using data on the Los Angeles Dodgers Major League Baseball (MLB) team. Use this data to make a recommendation to management on how to improve attendance. Tell a story with your analysis and clearly explain the steps you take to arrive at your conclusion. This is an open-ended question, and there is no one right answer. You are welcome to do additional research and/or use domain knowledge to assist your analysis, but clearly state any assumptions you make.\n"
   ]
  },
  {
   "cell_type": "code",
   "execution_count": 28,
   "id": "8dc4cab3",
   "metadata": {
    "scrolled": false
   },
   "outputs": [
    {
     "data": {
      "text/html": [
       "<div>\n",
       "<style scoped>\n",
       "    .dataframe tbody tr th:only-of-type {\n",
       "        vertical-align: middle;\n",
       "    }\n",
       "\n",
       "    .dataframe tbody tr th {\n",
       "        vertical-align: top;\n",
       "    }\n",
       "\n",
       "    .dataframe thead th {\n",
       "        text-align: right;\n",
       "    }\n",
       "</style>\n",
       "<table border=\"1\" class=\"dataframe\">\n",
       "  <thead>\n",
       "    <tr style=\"text-align: right;\">\n",
       "      <th></th>\n",
       "      <th>month</th>\n",
       "      <th>day</th>\n",
       "      <th>attend</th>\n",
       "      <th>day_of_week</th>\n",
       "      <th>opponent</th>\n",
       "      <th>temp</th>\n",
       "      <th>skies</th>\n",
       "      <th>day_night</th>\n",
       "      <th>cap</th>\n",
       "      <th>shirt</th>\n",
       "      <th>fireworks</th>\n",
       "      <th>bobblehead</th>\n",
       "    </tr>\n",
       "  </thead>\n",
       "  <tbody>\n",
       "    <tr>\n",
       "      <th>0</th>\n",
       "      <td>APR</td>\n",
       "      <td>10</td>\n",
       "      <td>56000</td>\n",
       "      <td>Tuesday</td>\n",
       "      <td>Pirates</td>\n",
       "      <td>67</td>\n",
       "      <td>Clear</td>\n",
       "      <td>Day</td>\n",
       "      <td>NO</td>\n",
       "      <td>NO</td>\n",
       "      <td>NO</td>\n",
       "      <td>NO</td>\n",
       "    </tr>\n",
       "    <tr>\n",
       "      <th>1</th>\n",
       "      <td>APR</td>\n",
       "      <td>11</td>\n",
       "      <td>29729</td>\n",
       "      <td>Wednesday</td>\n",
       "      <td>Pirates</td>\n",
       "      <td>58</td>\n",
       "      <td>Cloudy</td>\n",
       "      <td>Night</td>\n",
       "      <td>NO</td>\n",
       "      <td>NO</td>\n",
       "      <td>NO</td>\n",
       "      <td>NO</td>\n",
       "    </tr>\n",
       "    <tr>\n",
       "      <th>2</th>\n",
       "      <td>APR</td>\n",
       "      <td>12</td>\n",
       "      <td>28328</td>\n",
       "      <td>Thursday</td>\n",
       "      <td>Pirates</td>\n",
       "      <td>57</td>\n",
       "      <td>Cloudy</td>\n",
       "      <td>Night</td>\n",
       "      <td>NO</td>\n",
       "      <td>NO</td>\n",
       "      <td>NO</td>\n",
       "      <td>NO</td>\n",
       "    </tr>\n",
       "    <tr>\n",
       "      <th>3</th>\n",
       "      <td>APR</td>\n",
       "      <td>13</td>\n",
       "      <td>31601</td>\n",
       "      <td>Friday</td>\n",
       "      <td>Padres</td>\n",
       "      <td>54</td>\n",
       "      <td>Cloudy</td>\n",
       "      <td>Night</td>\n",
       "      <td>NO</td>\n",
       "      <td>NO</td>\n",
       "      <td>YES</td>\n",
       "      <td>NO</td>\n",
       "    </tr>\n",
       "    <tr>\n",
       "      <th>4</th>\n",
       "      <td>APR</td>\n",
       "      <td>14</td>\n",
       "      <td>46549</td>\n",
       "      <td>Saturday</td>\n",
       "      <td>Padres</td>\n",
       "      <td>57</td>\n",
       "      <td>Cloudy</td>\n",
       "      <td>Night</td>\n",
       "      <td>NO</td>\n",
       "      <td>NO</td>\n",
       "      <td>NO</td>\n",
       "      <td>NO</td>\n",
       "    </tr>\n",
       "  </tbody>\n",
       "</table>\n",
       "</div>"
      ],
      "text/plain": [
       "  month  day  attend day_of_week opponent  temp   skies day_night cap shirt  \\\n",
       "0   APR   10   56000     Tuesday  Pirates    67  Clear        Day  NO    NO   \n",
       "1   APR   11   29729   Wednesday  Pirates    58  Cloudy     Night  NO    NO   \n",
       "2   APR   12   28328    Thursday  Pirates    57  Cloudy     Night  NO    NO   \n",
       "3   APR   13   31601      Friday   Padres    54  Cloudy     Night  NO    NO   \n",
       "4   APR   14   46549    Saturday   Padres    57  Cloudy     Night  NO    NO   \n",
       "\n",
       "  fireworks bobblehead  \n",
       "0        NO         NO  \n",
       "1        NO         NO  \n",
       "2        NO         NO  \n",
       "3       YES         NO  \n",
       "4        NO         NO  "
      ]
     },
     "execution_count": 28,
     "metadata": {},
     "output_type": "execute_result"
    }
   ],
   "source": [
    "import pandas as pd\n",
    "from scipy.stats import f_oneway, pearsonr\n",
    "import matplotlib.pyplot as plt\n",
    "import researchpy as rp\n",
    "from sklearn.ensemble import RandomForestRegressor\n",
    "\n",
    "\n",
    "df = pd.read_csv('/Users/madisonchristiansen/Desktop/dodgers-2022.csv')   \n",
    "df.head()"
   ]
  },
  {
   "cell_type": "code",
   "execution_count": 15,
   "id": "b3a34d41",
   "metadata": {},
   "outputs": [
    {
     "name": "stdout",
     "output_type": "stream",
     "text": [
      "Attendance by Month: month\n",
      "JUN    47940.444444\n",
      "JUL    43884.250000\n",
      "AUG    42751.533333\n",
      "APR    39591.916667\n",
      "SEP    38955.083333\n",
      "MAY    37345.722222\n",
      "OCT    36703.666667\n",
      "Name: attend, dtype: float64\n"
     ]
    }
   ],
   "source": [
    "## Looking at the average attendance acoss the features - \n",
    "## gives an understanding as to when they have the most attendance\n",
    "\n",
    "# Month - largest to smallest\n",
    "average_attendance_by_month = df.groupby('month')['attend'].mean()\n",
    "print('Attendance by Month:', average_attendance_by_month.sort_values(ascending=False))"
   ]
  },
  {
   "cell_type": "code",
   "execution_count": 16,
   "id": "151152c2",
   "metadata": {},
   "outputs": [
    {
     "name": "stdout",
     "output_type": "stream",
     "text": [
      "Attendance by Day of Week: day_of_week\n",
      "Tuesday      47741.230769\n",
      "Saturday     43072.923077\n",
      "Sunday       42268.846154\n",
      "Thursday     40407.400000\n",
      "Friday       40116.923077\n",
      "Wednesday    37585.166667\n",
      "Monday       34965.666667\n",
      "Name: attend, dtype: float64\n"
     ]
    }
   ],
   "source": [
    "# Day of Week - largest to smallest\n",
    "average_attendance_by_day = df.groupby('day_of_week')['attend'].mean()\n",
    "print('Attendance by Day of Week:', average_attendance_by_day.sort_values(ascending=False))\n"
   ]
  },
  {
   "cell_type": "code",
   "execution_count": 17,
   "id": "96f4c3cb",
   "metadata": {},
   "outputs": [
    {
     "name": "stdout",
     "output_type": "stream",
     "text": [
      "Attendance by Skies: skies\n",
      "Clear     41729.209677\n",
      "Cloudy    38791.315789\n",
      "Name: attend, dtype: float64\n"
     ]
    }
   ],
   "source": [
    "# Skies - largest to smallest\n",
    "average_attendance_by_skies = df.groupby('skies')['attend'].mean()\n",
    "print('Attendance by Skies:', average_attendance_by_skies.sort_values(ascending=False))"
   ]
  },
  {
   "cell_type": "code",
   "execution_count": 18,
   "id": "e074193b",
   "metadata": {},
   "outputs": [
    {
     "name": "stdout",
     "output_type": "stream",
     "text": [
      "Attendance by Day or Night: day_night\n",
      "Day      41793.266667\n",
      "Night    40868.893939\n",
      "Name: attend, dtype: float64\n"
     ]
    }
   ],
   "source": [
    "# Day or Night - largest to smallest\n",
    "average_attendance_by_day_night = df.groupby('day_night')['attend'].mean()\n",
    "print('Attendance by Day or Night:', average_attendance_by_day_night.sort_values(ascending=False))"
   ]
  },
  {
   "cell_type": "code",
   "execution_count": 19,
   "id": "d32a42e0",
   "metadata": {
    "scrolled": false
   },
   "outputs": [
    {
     "name": "stdout",
     "output_type": "stream",
     "text": [
      "Attendance by Temp: temp\n",
      "74    51131.333333\n",
      "66    50043.000000\n",
      "72    49763.000000\n",
      "75    48597.571429\n",
      "68    47884.500000\n",
      "80    45957.400000\n",
      "63    44014.000000\n",
      "76    43873.000000\n",
      "71    42680.000000\n",
      "83    42484.000000\n",
      "78    42418.000000\n",
      "77    41807.000000\n",
      "70    41334.333333\n",
      "73    40330.250000\n",
      "85    40167.000000\n",
      "67    39938.857143\n",
      "95    39028.000000\n",
      "81    38949.500000\n",
      "57    37438.500000\n",
      "84    37116.000000\n",
      "61    36561.000000\n",
      "59    36283.000000\n",
      "65    35895.000000\n",
      "86    34689.000000\n",
      "79    34627.500000\n",
      "82    34014.000000\n",
      "64    33625.500000\n",
      "89    31607.000000\n",
      "54    31601.000000\n",
      "58    29729.000000\n",
      "60    26376.000000\n",
      "69    25509.000000\n",
      "Name: attend, dtype: float64\n"
     ]
    }
   ],
   "source": [
    "# Temp - largest to smallest \n",
    "average_attendance_by_temp = df.groupby('temp')['attend'].mean()\n",
    "print('Attendance by Temp:', average_attendance_by_temp.sort_values(ascending=False))"
   ]
  },
  {
   "cell_type": "code",
   "execution_count": 20,
   "id": "05ea3900",
   "metadata": {
    "scrolled": true
   },
   "outputs": [
    {
     "name": "stdout",
     "output_type": "stream",
     "text": [
      "Attendance by Opponent: opponent\n",
      "Angels       49777.333333\n",
      "Mets         49586.250000\n",
      "Nationals    49267.333333\n",
      "White Sox    46382.000000\n",
      "Cubs         44206.666667\n",
      "Padres       42092.222222\n",
      "Phillies     41897.000000\n",
      "Cardinals    40853.285714\n",
      "Marlins      40665.333333\n",
      "Reds         40649.000000\n",
      "Rockies      39631.222222\n",
      "Snakes       39315.444444\n",
      "Giants       39296.333333\n",
      "Pirates      38019.000000\n",
      "Astros       35383.333333\n",
      "Brewers      35358.750000\n",
      "Braves       32245.000000\n",
      "Name: attend, dtype: float64\n"
     ]
    }
   ],
   "source": [
    "# Opponent - largest to smallest\n",
    "average_attendance_by_opponent = df.groupby('opponent')['attend'].mean()\n",
    "print('Attendance by Opponent:', average_attendance_by_opponent.sort_values(ascending=False))"
   ]
  },
  {
   "cell_type": "markdown",
   "id": "83cbd679",
   "metadata": {},
   "source": [
    "### Looking at p-values to determine if the attendance is statistically significant across the features tested. A p-value lower then 0.05 indicats we reject the null hypothesis, which is that there is no significant difference in the average attendance across the tested feature. \n",
    "\n",
    "### Looking at the Pearson's correlation to look at what has a strong and weak correlation to attendance. "
   ]
  },
  {
   "cell_type": "code",
   "execution_count": 6,
   "id": "40a48751",
   "metadata": {},
   "outputs": [
    {
     "name": "stdout",
     "output_type": "stream",
     "text": [
      "F-Statistic: 2.567203673835352\n",
      "P-Value: 0.02584676447086318\n"
     ]
    }
   ],
   "source": [
    "## Creating an ANOVA test of the features - \n",
    "## Gives an understnading as to if the differences in attendace as statistically significant \n",
    "\n",
    "# Month \n",
    "groups = []\n",
    "for day in df['month'].unique():\n",
    "    groups.append(df[df['month'] == day]['attend'])\n",
    "\n",
    "f_stat, p_value = f_oneway(*groups)\n",
    "\n",
    "print(f\"F-Statistic: {f_stat}\")\n",
    "print(f\"P-Value: {p_value}\")"
   ]
  },
  {
   "cell_type": "code",
   "execution_count": 60,
   "id": "236197dd",
   "metadata": {},
   "outputs": [
    {
     "name": "stdout",
     "output_type": "stream",
     "text": [
      "F-Statistic: 3.644032326193235\n",
      "P-Value: 0.003185034232658946\n"
     ]
    }
   ],
   "source": [
    "# Day of Week\n",
    "groups = []\n",
    "for day in df['day_of_week'].unique():\n",
    "    groups.append(df[df['day_of_week'] == day]['attend'])\n",
    "\n",
    "f_stat, p_value = f_oneway(*groups)\n",
    "\n",
    "print(f\"F-Statistic: {f_stat}\")\n",
    "print(f\"P-Value: {p_value}\")"
   ]
  },
  {
   "cell_type": "code",
   "execution_count": 27,
   "id": "4d40dd3c",
   "metadata": {},
   "outputs": [
    {
     "name": "stdout",
     "output_type": "stream",
     "text": [
      "F-Statistic: 1.8423961635393247\n",
      "P-Value: 0.1785354913958893\n"
     ]
    }
   ],
   "source": [
    "# Skies\n",
    "groups = []\n",
    "for day in df['skies'].unique():\n",
    "    groups.append(df[df['skies'] == day]['attend'])\n",
    "\n",
    "f_stat, p_value = f_oneway(*groups)\n",
    "\n",
    "print(f\"F-Statistic: {f_stat}\")\n",
    "print(f\"P-Value: {p_value}\")"
   ]
  },
  {
   "cell_type": "code",
   "execution_count": 29,
   "id": "3a459cf8",
   "metadata": {},
   "outputs": [
    {
     "name": "stdout",
     "output_type": "stream",
     "text": [
      "F-Statistic: 0.15007457126273074\n",
      "P-Value: 0.6995058414022322\n"
     ]
    }
   ],
   "source": [
    "# Day or Night\n",
    "groups = []\n",
    "for day in df['day_night'].unique():\n",
    "    groups.append(df[df['day_night'] == day]['attend'])\n",
    "\n",
    "f_stat, p_value = f_oneway(*groups)\n",
    "\n",
    "print(f\"F-Statistic: {f_stat}\")\n",
    "print(f\"P-Value: {p_value}\")"
   ]
  },
  {
   "cell_type": "code",
   "execution_count": 61,
   "id": "c6d3c2e2",
   "metadata": {},
   "outputs": [
    {
     "name": "stdout",
     "output_type": "stream",
     "text": [
      "Pearson's Correlation Coefficient: 0.09895073090623711\n",
      "P-Value: 0.37946938868825275\n"
     ]
    }
   ],
   "source": [
    "# Temp\n",
    "corr, p_value = pearsonr(df['attend'], df['temp'])\n",
    "\n",
    "print(f\"Pearson's Correlation Coefficient:\", corr)\n",
    "print(f\"P-Value:\", p_value)"
   ]
  },
  {
   "cell_type": "code",
   "execution_count": 31,
   "id": "4ca4e5e7",
   "metadata": {},
   "outputs": [
    {
     "name": "stdout",
     "output_type": "stream",
     "text": [
      "F-Statistic: 1.3759848896865952\n",
      "P-Value: 0.18253553289949573\n"
     ]
    }
   ],
   "source": [
    "# Opponent\n",
    "groups = []\n",
    "for day in df['opponent'].unique():\n",
    "    groups.append(df[df['opponent'] == day]['attend'])\n",
    "\n",
    "f_stat, p_value = f_oneway(*groups)\n",
    "\n",
    "print(f\"F-Statistic: {f_stat}\")\n",
    "print(f\"P-Value: {p_value}\")"
   ]
  },
  {
   "cell_type": "markdown",
   "id": "ad827734",
   "metadata": {},
   "source": [
    "### Accept Null Hypothesis: Opponent, Temp, Day or Night, Skies - These do not have a statistical significance when it comes to attendance across the different circumstances.\n",
    "### Reject Null Hypothesis:  Month, Day of Week - These have a statistical significance."
   ]
  },
  {
   "cell_type": "code",
   "execution_count": 37,
   "id": "0d8a4518",
   "metadata": {
    "scrolled": false
   },
   "outputs": [
    {
     "data": {
      "image/png": "[encoded data removed]",
      "text/plain": [
       "<Figure size 640x480 with 1 Axes>"
      ]
     },
     "metadata": {},
     "output_type": "display_data"
    }
   ],
   "source": [
    "## Looking futher at accepted null hypothesis feautres \n",
    "\n",
    "# Opponent\n",
    "plt.bar(average_attendance_by_opponent.index, average_attendance_by_opponent)\n",
    "plt.xlabel('Opponent')\n",
    "plt.ylabel('Average Attendance')\n",
    "plt.title('Average Attendance by Opponent')\n",
    "plt.xticks(rotation=90)\n",
    "\n",
    "plt.show()"
   ]
  },
  {
   "cell_type": "code",
   "execution_count": 40,
   "id": "01fbcfd7",
   "metadata": {
    "scrolled": false
   },
   "outputs": [
    {
     "data": {
      "image/png": "[encoded data removed]",
      "text/plain": [
       "<Figure size 640x480 with 1 Axes>"
      ]
     },
     "metadata": {},
     "output_type": "display_data"
    }
   ],
   "source": [
    "# Temp\n",
    "plt.bar(average_attendance_by_temp.index, average_attendance_by_temp)\n",
    "plt.xlabel('Temperature')\n",
    "plt.ylabel('Average Attendance')\n",
    "plt.title('Average Attendance by Temperature')\n",
    "plt.show()"
   ]
  },
  {
   "cell_type": "code",
   "execution_count": 41,
   "id": "7a725364",
   "metadata": {
    "scrolled": false
   },
   "outputs": [
    {
     "data": {
      "image/png": "[encoded data removed]",
      "text/plain": [
       "<Figure size 640x480 with 1 Axes>"
      ]
     },
     "metadata": {},
     "output_type": "display_data"
    }
   ],
   "source": [
    "# Day or Night\n",
    "plt.bar(average_attendance_by_day_night.index, average_attendance_by_day_night)\n",
    "plt.xlabel('Day or Night')\n",
    "plt.ylabel('Average Attendance')\n",
    "plt.title('Average Attendance by Day or Night')\n",
    "plt.show()"
   ]
  },
  {
   "cell_type": "code",
   "execution_count": 42,
   "id": "b7fe2235",
   "metadata": {
    "scrolled": false
   },
   "outputs": [
    {
     "data": {
      "image/png": "[encoded data removed]",
      "text/plain": [
       "<Figure size 640x480 with 1 Axes>"
      ]
     },
     "metadata": {},
     "output_type": "display_data"
    }
   ],
   "source": [
    "# Skies\n",
    "plt.bar(average_attendance_by_skies.index, average_attendance_by_skies)\n",
    "plt.xlabel('Skies')\n",
    "plt.ylabel('Average Attendance')\n",
    "plt.title('Average Attendance by Skies')\n",
    "plt.show()"
   ]
  },
  {
   "cell_type": "code",
   "execution_count": 26,
   "id": "2212b606",
   "metadata": {},
   "outputs": [
    {
     "data": {
      "text/html": [
       "<div>\n",
       "<style scoped>\n",
       "    .dataframe tbody tr th:only-of-type {\n",
       "        vertical-align: middle;\n",
       "    }\n",
       "\n",
       "    .dataframe tbody tr th {\n",
       "        vertical-align: top;\n",
       "    }\n",
       "\n",
       "    .dataframe thead th {\n",
       "        text-align: right;\n",
       "    }\n",
       "</style>\n",
       "<table border=\"1\" class=\"dataframe\">\n",
       "  <thead>\n",
       "    <tr style=\"text-align: right;\">\n",
       "      <th></th>\n",
       "      <th>attend</th>\n",
       "      <th>cap_NO</th>\n",
       "      <th>cap_YES</th>\n",
       "      <th>shirt_NO</th>\n",
       "      <th>shirt_YES</th>\n",
       "      <th>fireworks_NO</th>\n",
       "      <th>fireworks_YES</th>\n",
       "      <th>bobblehead_NO</th>\n",
       "      <th>bobblehead_YES</th>\n",
       "    </tr>\n",
       "  </thead>\n",
       "  <tbody>\n",
       "    <tr>\n",
       "      <th>0</th>\n",
       "      <td>56000</td>\n",
       "      <td>1</td>\n",
       "      <td>0</td>\n",
       "      <td>1</td>\n",
       "      <td>0</td>\n",
       "      <td>1</td>\n",
       "      <td>0</td>\n",
       "      <td>1</td>\n",
       "      <td>0</td>\n",
       "    </tr>\n",
       "    <tr>\n",
       "      <th>1</th>\n",
       "      <td>29729</td>\n",
       "      <td>1</td>\n",
       "      <td>0</td>\n",
       "      <td>1</td>\n",
       "      <td>0</td>\n",
       "      <td>1</td>\n",
       "      <td>0</td>\n",
       "      <td>1</td>\n",
       "      <td>0</td>\n",
       "    </tr>\n",
       "    <tr>\n",
       "      <th>2</th>\n",
       "      <td>28328</td>\n",
       "      <td>1</td>\n",
       "      <td>0</td>\n",
       "      <td>1</td>\n",
       "      <td>0</td>\n",
       "      <td>1</td>\n",
       "      <td>0</td>\n",
       "      <td>1</td>\n",
       "      <td>0</td>\n",
       "    </tr>\n",
       "    <tr>\n",
       "      <th>3</th>\n",
       "      <td>31601</td>\n",
       "      <td>1</td>\n",
       "      <td>0</td>\n",
       "      <td>1</td>\n",
       "      <td>0</td>\n",
       "      <td>0</td>\n",
       "      <td>1</td>\n",
       "      <td>1</td>\n",
       "      <td>0</td>\n",
       "    </tr>\n",
       "    <tr>\n",
       "      <th>4</th>\n",
       "      <td>46549</td>\n",
       "      <td>1</td>\n",
       "      <td>0</td>\n",
       "      <td>1</td>\n",
       "      <td>0</td>\n",
       "      <td>1</td>\n",
       "      <td>0</td>\n",
       "      <td>1</td>\n",
       "      <td>0</td>\n",
       "    </tr>\n",
       "  </tbody>\n",
       "</table>\n",
       "</div>"
      ],
      "text/plain": [
       "   attend  cap_NO  cap_YES  shirt_NO  shirt_YES  fireworks_NO  fireworks_YES  \\\n",
       "0   56000       1        0         1          0             1              0   \n",
       "1   29729       1        0         1          0             1              0   \n",
       "2   28328       1        0         1          0             1              0   \n",
       "3   31601       1        0         1          0             0              1   \n",
       "4   46549       1        0         1          0             1              0   \n",
       "\n",
       "   bobblehead_NO  bobblehead_YES  \n",
       "0              1               0  \n",
       "1              1               0  \n",
       "2              1               0  \n",
       "3              1               0  \n",
       "4              1               0  "
      ]
     },
     "execution_count": 26,
     "metadata": {},
     "output_type": "execute_result"
    }
   ],
   "source": [
    "selected_columns = ['attend','cap','shirt','fireworks','bobblehead']\n",
    "\n",
    "fet_df = pd.DataFrame(df, columns=selected_columns)\n",
    "\n",
    "feature_df = pd.get_dummies(fet_df, columns=['cap', 'shirt', 'fireworks', 'bobblehead'])\n",
    "\n",
    "feature_df.head()"
   ]
  },
  {
   "cell_type": "code",
   "execution_count": 27,
   "id": "712ddc07",
   "metadata": {
    "scrolled": true
   },
   "outputs": [
    {
     "name": "stdout",
     "output_type": "stream",
     "text": [
      "          Feature  Importance\n",
      "7  bobblehead_YES    0.490607\n",
      "6   bobblehead_NO    0.350511\n",
      "3       shirt_YES    0.048831\n",
      "2        shirt_NO    0.045111\n",
      "5   fireworks_YES    0.032622\n",
      "4    fireworks_NO    0.025364\n",
      "1         cap_YES    0.003612\n",
      "0          cap_NO    0.003341\n"
     ]
    }
   ],
   "source": [
    "## Looking at feature importance \n",
    "\n",
    "# Assuming you have already loaded the dataset into a DataFrame called 'df'\n",
    "# Separate the features and target variable\n",
    "X = feature_df.drop('attend', axis=1)\n",
    "y = feature_df['attend']\n",
    "\n",
    "# Create a Random Forest regressor model\n",
    "rf_model = RandomForestRegressor()\n",
    "rf_model.fit(X, y)\n",
    "\n",
    "# Get feature importances\n",
    "feature_importances = rf_model.feature_importances_\n",
    "\n",
    "# Create a DataFrame to display feature importances\n",
    "feature_importance_df = pd.DataFrame({'Feature': X.columns, 'Importance': feature_importances})\n",
    "feature_importance_df = feature_importance_df.sort_values('Importance', ascending=False)\n",
    "\n",
    "print(feature_importance_df)"
   ]
  },
  {
   "cell_type": "markdown",
   "id": "dfe0bbb1",
   "metadata": {},
   "source": [
    "### When tyring to increase attendance to the MLB games first you need to be able to show what features are impacting or assoicated with the attendacne. You can see that the months and days of the week are statisically significant when looking at the amount of people attending these games. For the variables that are not statisically significant you can see that temperature and opponent are variables that might have an impact. Although based on the low p-value and when looking at the feature in a graph the skies and day or night features don't seem to have much impact on attendance. Looking futher at the other features you can see that bobbleheads have the highest importance and caps is the lowest. \n",
    "### These tests preformed can give the MLB an idea as to what is impacting their attendance and shows the attendace they should be expecting based on the different features they collect data on. When it comes to recomendations of improving the attendance, I think marketing targeted towards the months and days that have lower attendance. Along with this marketing that is targeted towards the bobbleheads and shirts. These two feature seems to have a higher importance and if they are marketed better it could pull more people to the games. "
   ]
  }
 ],
 "metadata": {
  "kernelspec": {
   "display_name": "Python 3 (ipykernel)",
   "language": "python",
   "name": "python3"
  },
  "language_info": {
   "codemirror_mode": {
    "name": "ipython",
    "version": 3
   },
   "file_extension": ".py",
   "mimetype": "text/x-python",
   "name": "python",
   "nbconvert_exporter": "python",
   "pygments_lexer": "ipython3",
   "version": "3.9.13"
  }
 },
 "nbformat": 4,
 "nbformat_minor": 5
}

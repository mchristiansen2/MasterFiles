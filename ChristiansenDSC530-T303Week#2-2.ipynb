{
 "cells": [
  {
   "cell_type": "code",
   "execution_count": 1,
   "id": "49b4185d",
   "metadata": {},
   "outputs": [
    {
     "name": "stdout",
     "output_type": "stream",
     "text": [
      "Hello World! My name is Madison.\n"
     ]
    }
   ],
   "source": [
    "print(\"Hello World! My name is Madison.\") # simple print text"
   ]
  },
  {
   "cell_type": "code",
   "execution_count": 4,
   "id": "d878e747",
   "metadata": {},
   "outputs": [
    {
     "name": "stdout",
     "output_type": "stream",
     "text": [
      "7\n"
     ]
    }
   ],
   "source": [
    "print(4+3) # addition"
   ]
  },
  {
   "cell_type": "code",
   "execution_count": 3,
   "id": "8d5cc4b4",
   "metadata": {},
   "outputs": [
    {
     "name": "stdout",
     "output_type": "stream",
     "text": [
      "-2\n"
     ]
    }
   ],
   "source": [
    "print(2-4) # subtraction"
   ]
  },
  {
   "cell_type": "code",
   "execution_count": 5,
   "id": "e3991700",
   "metadata": {},
   "outputs": [
    {
     "name": "stdout",
     "output_type": "stream",
     "text": [
      "72\n"
     ]
    }
   ],
   "source": [
    "print(9*8) # multiplication"
   ]
  },
  {
   "cell_type": "code",
   "execution_count": 7,
   "id": "ea2bb305",
   "metadata": {
    "scrolled": true
   },
   "outputs": [
    {
     "name": "stdout",
     "output_type": "stream",
     "text": [
      "0.9\n"
     ]
    }
   ],
   "source": [
    "print(9/10) # division"
   ]
  },
  {
   "cell_type": "code",
   "execution_count": 43,
   "id": "01e23d8e",
   "metadata": {
    "scrolled": false
   },
   "outputs": [
    {
     "name": "stdout",
     "output_type": "stream",
     "text": [
      "Madison likes Mondays.\n"
     ]
    }
   ],
   "source": [
    "name = \"Madison likes\" # string 1\n",
    "day = \"Mondays.\" # string 2\n",
    "s= name + \" \" + day # the concatenate of two strings\n",
    "print(s) # result"
   ]
  },
  {
   "cell_type": "code",
   "execution_count": 28,
   "id": "3feae690",
   "metadata": {},
   "outputs": [
    {
     "name": "stdout",
     "output_type": "stream",
     "text": [
      "['Bannana', 'Apple', 'Orange', 'Grape']\n",
      "['Bannana', 'Apple', 'Orange', 'Grape', 'Pineapple']\n"
     ]
    }
   ],
   "source": [
    "fruit = [\"Bannana\",\"Apple\", \"Orange\", \"Grape\"] # the original list\n",
    "print(fruit) # printed checking for errors\n",
    "fruit.append(\"Pineapple\") # adding to the original\n",
    "print(fruit) # final list printed"
   ]
  },
  {
   "cell_type": "code",
   "execution_count": 29,
   "id": "cd109a30",
   "metadata": {},
   "outputs": [
    {
     "name": "stdout",
     "output_type": "stream",
     "text": [
      "(25, 'Street', 136, 'Circle')\n"
     ]
    }
   ],
   "source": [
    "tuple = (25, \"Street\", 136, \"Circle\") # tuple with mixed datatypes\n",
    "print(tuple) # result"
   ]
  },
  {
   "cell_type": "code",
   "execution_count": 48,
   "id": "cd47df60",
   "metadata": {},
   "outputs": [
    {
     "name": "stdout",
     "output_type": "stream",
     "text": [
      "<class 'tuple'>\n",
      "(1, 2, 3, 4, 5, 6)\n"
     ]
    }
   ],
   "source": [
    "tuplelist = (1, 2, 3, 4, 5, 6) # tuple with one datatype\n",
    "print(type(tuplelist)) # checking the type is 'tuple'\n",
    "print(tuplelist) # result"
   ]
  },
  {
   "cell_type": "code",
   "execution_count": null,
   "id": "e6d16870",
   "metadata": {},
   "outputs": [],
   "source": []
  },
  {
   "cell_type": "code",
   "execution_count": null,
   "id": "4b370ef1",
   "metadata": {},
   "outputs": [],
   "source": []
  }
 ],
 "metadata": {
  "kernelspec": {
   "display_name": "Python 3 (ipykernel)",
   "language": "python",
   "name": "python3"
  },
  "language_info": {
   "codemirror_mode": {
    "name": "ipython",
    "version": 3
   },
   "file_extension": ".py",
   "mimetype": "text/x-python",
   "name": "python",
   "nbconvert_exporter": "python",
   "pygments_lexer": "ipython3",
   "version": "3.9.13"
  }
 },
 "nbformat": 4,
 "nbformat_minor": 5
}

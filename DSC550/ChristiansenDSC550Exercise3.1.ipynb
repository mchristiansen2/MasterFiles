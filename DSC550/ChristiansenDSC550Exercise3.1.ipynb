{
 "cells": [
  {
   "cell_type": "markdown",
   "id": "7d947579",
   "metadata": {},
   "source": [
    "## DSC550 Exercise 3.2\n",
    "### Madison Christiansen"
   ]
  },
  {
   "cell_type": "markdown",
   "id": "176510dd",
   "metadata": {},
   "source": [
    "### Part 1: Using the TextBlob Sentiment Analyzer"
   ]
  },
  {
   "cell_type": "code",
   "execution_count": 3,
   "id": "82ce43b6",
   "metadata": {},
   "outputs": [
    {
     "data": {
      "text/plain": [
       "<bound method NDFrame.head of             id  sentiment                                             review\n",
       "0       5814_8          1  With all this stuff going down at the moment w...\n",
       "1       2381_9          1  \\The Classic War of the Worlds\\\" by Timothy Hi...\n",
       "2       7759_3          0  The film starts with a manager (Nicholas Bell)...\n",
       "3       3630_4          0  It must be assumed that those who praised this...\n",
       "4       9495_8          1  Superbly trashy and wondrously unpretentious 8...\n",
       "...        ...        ...                                                ...\n",
       "24995   3453_3          0  It seems like more consideration has gone into...\n",
       "24996   5064_1          0  I don't believe they made this film. Completel...\n",
       "24997  10905_3          0  Guy is a loser. Can't get girls, needs to buil...\n",
       "24998  10194_3          0  This 30 minute documentary Buñuel made in the ...\n",
       "24999   8478_8          1  I saw this movie as a child and it broke my he...\n",
       "\n",
       "[25000 rows x 3 columns]>"
      ]
     },
     "execution_count": 3,
     "metadata": {},
     "output_type": "execute_result"
    }
   ],
   "source": [
    "# importing the dataset\n",
    "import pandas as pd\n",
    "import textblob \n",
    "from textblob import TextBlob \n",
    "\n",
    "moviedf = pd.read_csv('/Users/madisonchristiansen/Desktop/labeledTrainData.csv')   \n",
    "\n",
    "moviedf.head"
   ]
  },
  {
   "cell_type": "code",
   "execution_count": 4,
   "id": "e2062ce4",
   "metadata": {
    "scrolled": false
   },
   "outputs": [
    {
     "data": {
      "text/plain": [
       "1    12500\n",
       "0    12500\n",
       "Name: sentiment, dtype: int64"
      ]
     },
     "execution_count": 4,
     "metadata": {},
     "output_type": "execute_result"
    }
   ],
   "source": [
    "# positive(1) and negative(0) count \n",
    "moviedf['sentiment'].value_counts()"
   ]
  },
  {
   "cell_type": "code",
   "execution_count": 5,
   "id": "f1eb2c09",
   "metadata": {},
   "outputs": [
    {
     "data": {
      "text/plain": [
       "0        0.001277\n",
       "1        0.256349\n",
       "2       -0.053941\n",
       "3        0.134753\n",
       "4       -0.024842\n",
       "           ...   \n",
       "24995    0.102083\n",
       "24996    0.090813\n",
       "24997    0.145256\n",
       "24998    0.065625\n",
       "24999    0.239295\n",
       "Name: review, Length: 25000, dtype: float64"
      ]
     },
     "execution_count": 5,
     "metadata": {},
     "output_type": "execute_result"
    }
   ],
   "source": [
    "# calculating the subjectivity and polarity through .sentiment function\n",
    "moviedf['review'].apply(lambda x : TextBlob(x).sentiment[0])"
   ]
  },
  {
   "cell_type": "code",
   "execution_count": 6,
   "id": "fdd221b3",
   "metadata": {},
   "outputs": [
    {
     "data": {
      "text/html": [
       "<div>\n",
       "<style scoped>\n",
       "    .dataframe tbody tr th:only-of-type {\n",
       "        vertical-align: middle;\n",
       "    }\n",
       "\n",
       "    .dataframe tbody tr th {\n",
       "        vertical-align: top;\n",
       "    }\n",
       "\n",
       "    .dataframe thead th {\n",
       "        text-align: right;\n",
       "    }\n",
       "</style>\n",
       "<table border=\"1\" class=\"dataframe\">\n",
       "  <thead>\n",
       "    <tr style=\"text-align: right;\">\n",
       "      <th></th>\n",
       "      <th>id</th>\n",
       "      <th>sentiment</th>\n",
       "      <th>review</th>\n",
       "      <th>polarity</th>\n",
       "      <th>subjectivity</th>\n",
       "    </tr>\n",
       "  </thead>\n",
       "  <tbody>\n",
       "    <tr>\n",
       "      <th>0</th>\n",
       "      <td>5814_8</td>\n",
       "      <td>1</td>\n",
       "      <td>With all this stuff going down at the moment w...</td>\n",
       "      <td>0.001277</td>\n",
       "      <td>0.606746</td>\n",
       "    </tr>\n",
       "    <tr>\n",
       "      <th>1</th>\n",
       "      <td>2381_9</td>\n",
       "      <td>1</td>\n",
       "      <td>\\The Classic War of the Worlds\\\" by Timothy Hi...</td>\n",
       "      <td>0.256349</td>\n",
       "      <td>0.531111</td>\n",
       "    </tr>\n",
       "    <tr>\n",
       "      <th>2</th>\n",
       "      <td>7759_3</td>\n",
       "      <td>0</td>\n",
       "      <td>The film starts with a manager (Nicholas Bell)...</td>\n",
       "      <td>-0.053941</td>\n",
       "      <td>0.562933</td>\n",
       "    </tr>\n",
       "    <tr>\n",
       "      <th>3</th>\n",
       "      <td>3630_4</td>\n",
       "      <td>0</td>\n",
       "      <td>It must be assumed that those who praised this...</td>\n",
       "      <td>0.134753</td>\n",
       "      <td>0.492901</td>\n",
       "    </tr>\n",
       "    <tr>\n",
       "      <th>4</th>\n",
       "      <td>9495_8</td>\n",
       "      <td>1</td>\n",
       "      <td>Superbly trashy and wondrously unpretentious 8...</td>\n",
       "      <td>-0.024842</td>\n",
       "      <td>0.459818</td>\n",
       "    </tr>\n",
       "  </tbody>\n",
       "</table>\n",
       "</div>"
      ],
      "text/plain": [
       "       id  sentiment                                             review  \\\n",
       "0  5814_8          1  With all this stuff going down at the moment w...   \n",
       "1  2381_9          1  \\The Classic War of the Worlds\\\" by Timothy Hi...   \n",
       "2  7759_3          0  The film starts with a manager (Nicholas Bell)...   \n",
       "3  3630_4          0  It must be assumed that those who praised this...   \n",
       "4  9495_8          1  Superbly trashy and wondrously unpretentious 8...   \n",
       "\n",
       "   polarity  subjectivity  \n",
       "0  0.001277      0.606746  \n",
       "1  0.256349      0.531111  \n",
       "2 -0.053941      0.562933  \n",
       "3  0.134753      0.492901  \n",
       "4 -0.024842      0.459818  "
      ]
     },
     "execution_count": 6,
     "metadata": {},
     "output_type": "execute_result"
    }
   ],
   "source": [
    "# naming the two columns \n",
    "moviedf['polarity'] = moviedf['review'].apply(lambda x : TextBlob(x).sentiment[0])\n",
    "moviedf['subjectivity'] = moviedf['review'].apply(lambda x : TextBlob(x).sentiment[1])\n",
    "moviedf.head()"
   ]
  },
  {
   "cell_type": "markdown",
   "id": "cfbe2a60",
   "metadata": {},
   "source": [
    "#### When looking at the model you can see that random guessing would be a %50 chance because it is a binary output. "
   ]
  },
  {
   "cell_type": "markdown",
   "id": "ec98ca5a",
   "metadata": {},
   "source": [
    "### Part 2: Prepping Text for a Custom Model"
   ]
  },
  {
   "cell_type": "code",
   "execution_count": 7,
   "id": "55dd031f",
   "metadata": {},
   "outputs": [],
   "source": [
    "import nltk\n",
    "from nltk.stem import PorterStemmer\n",
    "from nltk.corpus import stopwords\n",
    "from nltk.tokenize import word_tokenize\n",
    "from sklearn.feature_extraction.text import CountVectorizer\n",
    "from sklearn.feature_extraction.text import TfidfVectorizer\n",
    "import pandas as pd\n",
    "import string\n",
    "import numpy as np\n",
    "\n",
    "review = moviedf['review']"
   ]
  },
  {
   "cell_type": "code",
   "execution_count": 8,
   "id": "2138c10a",
   "metadata": {},
   "outputs": [
    {
     "name": "stderr",
     "output_type": "stream",
     "text": [
      "/var/folders/_3/vk2spfgn2zg_41jx6kn0qr3m0000gn/T/ipykernel_14592/2901984213.py:6: FutureWarning: The default value of regex will change from True to False in a future version.\n",
      "  moviedf['review'].str.replace('[{}]'.format(string.punctuation), '')\n"
     ]
    },
    {
     "ename": "NameError",
     "evalue": "name 'reviews' is not defined",
     "output_type": "error",
     "traceback": [
      "\u001b[0;31m---------------------------------------------------------------------------\u001b[0m",
      "\u001b[0;31mNameError\u001b[0m                                 Traceback (most recent call last)",
      "\u001b[0;32m/var/folders/_3/vk2spfgn2zg_41jx6kn0qr3m0000gn/T/ipykernel_14592/2901984213.py\u001b[0m in \u001b[0;36m<module>\u001b[0;34m\u001b[0m\n\u001b[1;32m     20\u001b[0m         \u001b[0mprint\u001b[0m\u001b[0;34m(\u001b[0m\u001b[0mps\u001b[0m\u001b[0;34m.\u001b[0m\u001b[0mstem\u001b[0m\u001b[0;34m(\u001b[0m\u001b[0mw\u001b[0m\u001b[0;34m)\u001b[0m\u001b[0;34m)\u001b[0m\u001b[0;34m\u001b[0m\u001b[0;34m\u001b[0m\u001b[0m\n\u001b[1;32m     21\u001b[0m \u001b[0;34m\u001b[0m\u001b[0m\n\u001b[0;32m---> 22\u001b[0;31m \u001b[0mcleantext\u001b[0m\u001b[0;34m(\u001b[0m\u001b[0mreview\u001b[0m\u001b[0;34m)\u001b[0m\u001b[0;34m\u001b[0m\u001b[0;34m\u001b[0m\u001b[0m\n\u001b[0m",
      "\u001b[0;32m/var/folders/_3/vk2spfgn2zg_41jx6kn0qr3m0000gn/T/ipykernel_14592/2901984213.py\u001b[0m in \u001b[0;36mcleantext\u001b[0;34m(review)\u001b[0m\n\u001b[1;32m      9\u001b[0m     \u001b[0mstop_words\u001b[0m \u001b[0;34m=\u001b[0m \u001b[0mset\u001b[0m\u001b[0;34m(\u001b[0m\u001b[0mstopwords\u001b[0m\u001b[0;34m.\u001b[0m\u001b[0mwords\u001b[0m\u001b[0;34m(\u001b[0m\u001b[0;34m'english'\u001b[0m\u001b[0;34m)\u001b[0m\u001b[0;34m)\u001b[0m \u001b[0;31m# setting the stop words\u001b[0m\u001b[0;34m\u001b[0m\u001b[0;34m\u001b[0m\u001b[0m\n\u001b[1;32m     10\u001b[0m     \u001b[0mfinal\u001b[0m \u001b[0;34m=\u001b[0m \u001b[0;34m[\u001b[0m\u001b[0;34m]\u001b[0m\u001b[0;34m\u001b[0m\u001b[0;34m\u001b[0m\u001b[0m\n\u001b[0;32m---> 11\u001b[0;31m     \u001b[0;32mfor\u001b[0m \u001b[0mi\u001b[0m \u001b[0;32min\u001b[0m \u001b[0mreviews\u001b[0m\u001b[0;34m:\u001b[0m\u001b[0;34m\u001b[0m\u001b[0;34m\u001b[0m\u001b[0m\n\u001b[0m\u001b[1;32m     12\u001b[0m         \u001b[0;32mif\u001b[0m \u001b[0mi\u001b[0m \u001b[0;32mnot\u001b[0m \u001b[0;32min\u001b[0m \u001b[0mstop_words\u001b[0m\u001b[0;34m:\u001b[0m\u001b[0;34m\u001b[0m\u001b[0;34m\u001b[0m\u001b[0m\n\u001b[1;32m     13\u001b[0m             \u001b[0mfinal\u001b[0m\u001b[0;34m.\u001b[0m\u001b[0mappend\u001b[0m\u001b[0;34m(\u001b[0m\u001b[0mi\u001b[0m\u001b[0;34m)\u001b[0m\u001b[0;34m\u001b[0m\u001b[0;34m\u001b[0m\u001b[0m\n",
      "\u001b[0;31mNameError\u001b[0m: name 'reviews' is not defined"
     ]
    }
   ],
   "source": [
    "def cleantext(review):\n",
    "    # lower case letters\n",
    "    moviedf['review'] = moviedf['review'].apply(lambda x: x.lower())\n",
    "    \n",
    "    # remove puncuation\n",
    "    moviedf['review'].str.replace('[{}]'.format(string.punctuation), '')\n",
    "    \n",
    "    # remove stop words\n",
    "    stop_words = set(stopwords.words('english')) # setting the stop words\n",
    "    final = []\n",
    "    for i in reviews:\n",
    "        if i not in stop_words:\n",
    "            final.append(i)\n",
    "            final.append(\" \")\n",
    "    \" \".join(final)\n",
    "\n",
    "    # apply PorterStemmer\n",
    "    ps = PorterStemmer() # create a variable to store porterstemmer\n",
    "    for w in final:\n",
    "        print(ps.stem(w))\n",
    "        \n",
    "cleantext(review)"
   ]
  },
  {
   "cell_type": "code",
   "execution_count": null,
   "id": "ae7c09c9",
   "metadata": {},
   "outputs": [],
   "source": [
    "# bag of words\n",
    "text = np.array(final) # text\n",
    "# matrix\n",
    "count = CountVectorizer() \n",
    "bagofwords = count.fit_transform(text) \n",
    "\n",
    "bagofwords # show\n",
    "bagofwords.toarray()"
   ]
  },
  {
   "cell_type": "code",
   "execution_count": null,
   "id": "f7875299",
   "metadata": {},
   "outputs": [],
   "source": [
    "# TF-IDF matrix\n",
    "tfidf = TfidfVectorizer() \n",
    "featurematx = tfidf.fit_transform(text) \n",
    "featurematx.toarray()"
   ]
  },
  {
   "cell_type": "code",
   "execution_count": null,
   "id": "c4d436a6",
   "metadata": {},
   "outputs": [],
   "source": []
  }
 ],
 "metadata": {
  "kernelspec": {
   "display_name": "Python 3 (ipykernel)",
   "language": "python",
   "name": "python3"
  },
  "language_info": {
   "codemirror_mode": {
    "name": "ipython",
    "version": 3
   },
   "file_extension": ".py",
   "mimetype": "text/x-python",
   "name": "python",
   "nbconvert_exporter": "python",
   "pygments_lexer": "ipython3",
   "version": "3.9.13"
  }
 },
 "nbformat": 4,
 "nbformat_minor": 5
}
